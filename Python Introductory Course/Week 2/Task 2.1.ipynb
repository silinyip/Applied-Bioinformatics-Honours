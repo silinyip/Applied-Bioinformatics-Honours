{
 "cells": [
  {
   "cell_type": "code",
   "execution_count": 1,
   "id": "c93236f2-08a3-4bda-b975-ea8c1b6850d1",
   "metadata": {},
   "outputs": [],
   "source": [
    "import numpy as np"
   ]
  },
  {
   "cell_type": "code",
   "execution_count": 2,
   "id": "44a36b0b-366a-49b6-a24e-256e891dbc49",
   "metadata": {
    "tags": []
   },
   "outputs": [],
   "source": [
    "# 1. create empty NumPy matrix\n",
    "empty_array = np.array([])"
   ]
  },
  {
   "cell_type": "code",
   "execution_count": 3,
   "id": "37434563-e894-47e5-80c6-d41728f4684b",
   "metadata": {
    "tags": []
   },
   "outputs": [
    {
     "name": "stdout",
     "output_type": "stream",
     "text": [
      "[[1. 2. 3.]\n",
      " [4. 5. 6.]\n",
      " [7. 8. 9.]]\n"
     ]
    }
   ],
   "source": [
    "# 2.1. create NumPy array with 3 columns and 3 rows\n",
    "array3x3 = np.array([[1.0, 2.0, 3.0], [4.0, 5.0, 6.0], [7.0, 8.0, 9.0]])\n",
    "print(array3x3)"
   ]
  },
  {
   "cell_type": "code",
   "execution_count": 4,
   "id": "925fa8c7-1847-4f27-a0f5-d6b188e34edf",
   "metadata": {
    "tags": []
   },
   "outputs": [
    {
     "data": {
      "text/plain": [
       "(3, 3)"
      ]
     },
     "execution_count": 4,
     "metadata": {},
     "output_type": "execute_result"
    }
   ],
   "source": [
    "# 2.2. get dimensions of this array (i.e. shape)\n",
    "array3x3.shape"
   ]
  },
  {
   "cell_type": "code",
   "execution_count": 5,
   "id": "344654a3-2724-46ec-aa9f-07a9df08c8ba",
   "metadata": {
    "tags": []
   },
   "outputs": [
    {
     "data": {
      "text/plain": [
       "array([[4, 7, 9],\n",
       "       [7, 3, 7],\n",
       "       [3, 7, 2]])"
      ]
     },
     "execution_count": 5,
     "metadata": {},
     "output_type": "execute_result"
    }
   ],
   "source": [
    "# 2.3. create a random NumPy array with 3 columns and 3 rows\n",
    "np.random.randint(1, 10, size = (3, 3))"
   ]
  },
  {
   "cell_type": "code",
   "execution_count": null,
   "id": "7450b619-b385-43b5-80ef-659eccf74898",
   "metadata": {},
   "outputs": [],
   "source": [
    "# 3. create NumPy array with same dimensions (3x3) but concatenate them to and print out the shape:"
   ]
  },
  {
   "cell_type": "code",
   "execution_count": 6,
   "id": "3e185606-f450-4b38-bcff-6b7bbf17f826",
   "metadata": {
    "tags": []
   },
   "outputs": [
    {
     "data": {
      "text/plain": [
       "array([[1., 2., 3.],\n",
       "       [4., 5., 6.],\n",
       "       [7., 8., 9.],\n",
       "       [1., 2., 3.],\n",
       "       [4., 5., 6.],\n",
       "       [7., 8., 9.]])"
      ]
     },
     "execution_count": 6,
     "metadata": {},
     "output_type": "execute_result"
    }
   ],
   "source": [
    "# 3.1. 3x6 (columns x rows)\n",
    "np.vstack([array3x3, array3x3])"
   ]
  },
  {
   "cell_type": "code",
   "execution_count": 7,
   "id": "4dc19e74-fb50-41c6-9480-945e2be863c6",
   "metadata": {
    "tags": []
   },
   "outputs": [
    {
     "data": {
      "text/plain": [
       "array([[1., 2., 3., 1., 2., 3.],\n",
       "       [4., 5., 6., 4., 5., 6.],\n",
       "       [7., 8., 9., 7., 8., 9.]])"
      ]
     },
     "execution_count": 7,
     "metadata": {},
     "output_type": "execute_result"
    }
   ],
   "source": [
    "# 3.2. 6x3 (columns x rows)\n",
    "np.hstack([array3x3, array3x3])"
   ]
  },
  {
   "cell_type": "code",
   "execution_count": null,
   "id": "fdcd7fac-d933-4255-9ef6-a3d00d9818f8",
   "metadata": {},
   "outputs": [],
   "source": []
  }
 ],
 "metadata": {
  "kernelspec": {
   "display_name": "Python 3 (ipykernel)",
   "language": "python",
   "name": "python3"
  },
  "language_info": {
   "codemirror_mode": {
    "name": "ipython",
    "version": 3
   },
   "file_extension": ".py",
   "mimetype": "text/x-python",
   "name": "python",
   "nbconvert_exporter": "python",
   "pygments_lexer": "ipython3",
   "version": "3.11.3"
  }
 },
 "nbformat": 4,
 "nbformat_minor": 5
}
