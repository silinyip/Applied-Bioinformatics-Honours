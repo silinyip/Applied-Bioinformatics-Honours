{
 "cells": [
  {
   "cell_type": "code",
   "execution_count": null,
   "id": "350a019f-886f-4b08-8a50-90032a943978",
   "metadata": {},
   "outputs": [],
   "source": [
    "import pandas as pd"
   ]
  },
  {
   "cell_type": "code",
   "execution_count": null,
   "id": "8c3f31ab-35ae-4554-ba57-fd4ac04323d2",
   "metadata": {
    "tags": []
   },
   "outputs": [],
   "source": [
    "# importing created dataset\n",
    "dataset = pd.read_csv(\"Task 2.2. Data.csv\", index_col = \"Gene Name\")"
   ]
  },
  {
   "cell_type": "code",
   "execution_count": null,
   "id": "99cdc3d4-322a-453b-abcf-76a16b20fe20",
   "metadata": {
    "tags": []
   },
   "outputs": [],
   "source": [
    "dataset"
   ]
  },
  {
   "cell_type": "code",
   "execution_count": null,
   "id": "d26154b2-1aac-49c2-8975-32bd0940b078",
   "metadata": {
    "tags": []
   },
   "outputs": [],
   "source": [
    "# filtering dataset to show 5 rows and 2 columns\n",
    "filt = (dataset[\"Patient 1\"] >= 0.5) | (dataset[\"Patient 2\"] >= 0.5)"
   ]
  },
  {
   "cell_type": "code",
   "execution_count": null,
   "id": "692d5ac1-3c41-4191-a9c2-ae18d28ace1c",
   "metadata": {
    "tags": []
   },
   "outputs": [],
   "source": [
    "dataset.loc[filt]"
   ]
  },
  {
   "cell_type": "code",
   "execution_count": null,
   "id": "d73143d7-3879-4f00-9952-e9dab20c0749",
   "metadata": {},
   "outputs": [],
   "source": [
    "# filtering dataset based on gene name\n",
    "genes = [\"TP53\", \"CD4\", \"BDNF\", \"APC\"]\n",
    "filt = dataset.filter(genes, axis = 0)"
   ]
  },
  {
   "cell_type": "code",
   "execution_count": null,
   "id": "9f59f8c7-dda6-481f-876d-fda6ff721537",
   "metadata": {
    "tags": []
   },
   "outputs": [],
   "source": [
    "filt"
   ]
  }
 ],
 "metadata": {
  "kernelspec": {
   "display_name": "Python 3 (ipykernel)",
   "language": "python",
   "name": "python3"
  },
  "language_info": {
   "codemirror_mode": {
    "name": "ipython",
    "version": 3
   },
   "file_extension": ".py",
   "mimetype": "text/x-python",
   "name": "python",
   "nbconvert_exporter": "python",
   "pygments_lexer": "ipython3",
   "version": "3.11.3"
  }
 },
 "nbformat": 4,
 "nbformat_minor": 5
}
