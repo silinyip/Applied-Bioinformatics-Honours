{
 "cells": [
  {
   "cell_type": "markdown",
   "metadata": {},
   "source": [
    "<h1><center>\n",
    "    \n",
    "# **Remaking the World through Machine Learning**\n",
    "## PG Workshop\n",
    "\n",
    "[<img src=\"UJLogo.jpg\" width=\"250\"/>](UJLogo.jpg)\n",
    "</center></h1>\n",
    "# Model Evaluation and Improvement\n",
    "\n",
    "In this iPython notebook we consider some various ways in which you can tune your hyperparameters, make your model more accurate, and then measure the model's performance.\n",
    "\n",
    "Reference: \"Introduction to Machine Learning with Python\" by Andreas Mueller and Sarah Guido, https://github.com/amueller/introduction_to_ml_with_python\n",
    "\n",
    "\n",
    "### Cross Validation\n",
    "\n",
    "The purpose of cross-validation is not to get one or multiple trained models for inference, but rather to estimate an unbiased generalisation performance. Furthermore, we are able to examine how widely the performance varies across different training sets. "
   ]
  },
  {
   "cell_type": "code",
   "execution_count": 1,
   "metadata": {
    "hide_input": false
   },
   "outputs": [
    {
     "name": "stdout",
     "output_type": "stream",
     "text": [
      "Test set score: 0.88\n"
     ]
    }
   ],
   "source": [
    "import warnings\n",
    "warnings.filterwarnings('ignore')\n",
    "warnings.simplefilter(action='ignore', category=FutureWarning)\n",
    "\n",
    "import pandas as pd\n",
    "import numpy as np\n",
    "import mglearn\n",
    "import matplotlib.pyplot as plt\n",
    "import graphviz\n",
    "from sklearn.datasets import make_blobs\n",
    "from sklearn.linear_model import LogisticRegression\n",
    "from sklearn.model_selection import train_test_split\n",
    "\n",
    "# create a synthetic dataset\n",
    "X, y = make_blobs(random_state=0)\n",
    "# split data and labels into a training and a test set\n",
    "X_train, X_test, y_train, y_test = train_test_split(X, y, random_state=0)\n",
    "# instantiate a model and fit it to the training set\n",
    "logreg = LogisticRegression().fit(X_train, y_train)\n",
    "# evaluate the model on the test set\n",
    "print(\"Test set score: {:.2f}\".format(logreg.score(X_test, y_test)))\n"
   ]
  },
  {
   "cell_type": "markdown",
   "metadata": {},
   "source": [
    "### Cross-Validation\n",
    "\n",
    "The purpose of cross-validationis not to get one or multiple trained models for inference, but rather to estimate an unbiased generalisation performance. Furthermore, we are able to examine how widely the performance varies across different training sets. Below a visual representation is provided:"
   ]
  },
  {
   "cell_type": "code",
   "execution_count": 2,
   "metadata": {
    "hide_input": false
   },
   "outputs": [
    {
     "data": {
      "image/png": "[encoded data removed]",
      "text/plain": [
       "<Figure size 864x144 with 1 Axes>"
      ]
     },
     "metadata": {
      "needs_background": "light"
     },
     "output_type": "display_data"
    }
   ],
   "source": [
    "import mglearn\n",
    "from matplotlib.pyplot import imread\n",
    "mglearn.plots.plot_cross_validation()"
   ]
  },
  {
   "cell_type": "markdown",
   "metadata": {},
   "source": [
    "Using the ```iris``` data once more we perform cross-validation:"
   ]
  },
  {
   "cell_type": "code",
   "execution_count": 3,
   "metadata": {},
   "outputs": [
    {
     "name": "stdout",
     "output_type": "stream",
     "text": [
      "Cross-validation scores: [0.96666667 1.         0.93333333 0.96666667 1.        ]\n"
     ]
    }
   ],
   "source": [
    "import warnings\n",
    "warnings.filterwarnings('ignore')\n",
    "from sklearn.model_selection import cross_val_score\n",
    "from sklearn.datasets import load_iris\n",
    "from sklearn.linear_model import LogisticRegression\n",
    "\n",
    "iris = load_iris()\n",
    "logreg = LogisticRegression()\n",
    "\n",
    "scores = cross_val_score(logreg, iris.data, iris.target)\n",
    "print(\"Cross-validation scores: {}\".format(scores))"
   ]
  },
  {
   "cell_type": "code",
   "execution_count": 4,
   "metadata": {},
   "outputs": [
    {
     "name": "stdout",
     "output_type": "stream",
     "text": [
      "Average cross-validation score: 0.97\n"
     ]
    }
   ],
   "source": [
    "import warnings\n",
    "warnings.filterwarnings('ignore')\n",
    "scores = cross_val_score(logreg, iris.data, iris.target, cv=5)\n",
    "print(\"Average cross-validation score: {:.2f}\".format(scores.mean()))"
   ]
  },
  {
   "cell_type": "code",
   "execution_count": 5,
   "metadata": {},
   "outputs": [
    {
     "data": {
      "text/html": [
       "<div>\n",
       "<style scoped>\n",
       "    .dataframe tbody tr th:only-of-type {\n",
       "        vertical-align: middle;\n",
       "    }\n",
       "\n",
       "    .dataframe tbody tr th {\n",
       "        vertical-align: top;\n",
       "    }\n",
       "\n",
       "    .dataframe thead th {\n",
       "        text-align: right;\n",
       "    }\n",
       "</style>\n",
       "<table border=\"1\" class=\"dataframe\">\n",
       "  <thead>\n",
       "    <tr style=\"text-align: right;\">\n",
       "      <th></th>\n",
       "      <th>fit_time</th>\n",
       "      <th>score_time</th>\n",
       "      <th>test_score</th>\n",
       "      <th>train_score</th>\n",
       "    </tr>\n",
       "  </thead>\n",
       "  <tbody>\n",
       "    <tr>\n",
       "      <th>0</th>\n",
       "      <td>0.029684</td>\n",
       "      <td>0.000332</td>\n",
       "      <td>0.966667</td>\n",
       "      <td>0.966667</td>\n",
       "    </tr>\n",
       "    <tr>\n",
       "      <th>1</th>\n",
       "      <td>0.024044</td>\n",
       "      <td>0.000237</td>\n",
       "      <td>1.000000</td>\n",
       "      <td>0.966667</td>\n",
       "    </tr>\n",
       "    <tr>\n",
       "      <th>2</th>\n",
       "      <td>0.016037</td>\n",
       "      <td>0.000164</td>\n",
       "      <td>0.933333</td>\n",
       "      <td>0.983333</td>\n",
       "    </tr>\n",
       "    <tr>\n",
       "      <th>3</th>\n",
       "      <td>0.013686</td>\n",
       "      <td>0.000139</td>\n",
       "      <td>0.966667</td>\n",
       "      <td>0.983333</td>\n",
       "    </tr>\n",
       "    <tr>\n",
       "      <th>4</th>\n",
       "      <td>0.011402</td>\n",
       "      <td>0.000119</td>\n",
       "      <td>1.000000</td>\n",
       "      <td>0.975000</td>\n",
       "    </tr>\n",
       "  </tbody>\n",
       "</table>\n",
       "</div>"
      ],
      "text/plain": [
       "   fit_time  score_time  test_score  train_score\n",
       "0  0.029684    0.000332    0.966667     0.966667\n",
       "1  0.024044    0.000237    1.000000     0.966667\n",
       "2  0.016037    0.000164    0.933333     0.983333\n",
       "3  0.013686    0.000139    0.966667     0.983333\n",
       "4  0.011402    0.000119    1.000000     0.975000"
      ]
     },
     "metadata": {},
     "output_type": "display_data"
    },
    {
     "name": "stdout",
     "output_type": "stream",
     "text": [
      "Mean times and scores:\n",
      " fit_time       0.018971\n",
      "score_time     0.000198\n",
      "test_score     0.973333\n",
      "train_score    0.975000\n",
      "dtype: float64\n"
     ]
    }
   ],
   "source": [
    "from sklearn.model_selection import cross_validate\n",
    "from IPython.display import display \n",
    "import pandas as pd\n",
    "\n",
    "res = cross_validate(logreg, iris.data, iris.target, cv=5,\n",
    "                     return_train_score=True)\n",
    "res_df = pd.DataFrame(res)\n",
    "display(res_df)\n",
    "print(\"Mean times and scores:\\n\", res_df.mean())"
   ]
  },
  {
   "cell_type": "markdown",
   "metadata": {},
   "source": [
    "### Additional Cross-Validation strategies\n",
    "\n",
    "#### Stratified K-Fold cross-validation\n",
    "\n",
    "In stratified K-fold cross-validation, the folds are selected so that the mean response value is approximately equal in all the folds. "
   ]
  },
  {
   "cell_type": "code",
   "execution_count": 6,
   "metadata": {},
   "outputs": [
    {
     "data": {
      "image/png": "[encoded data removed]",
      "text/plain": [
       "<Figure size 864x360 with 2 Axes>"
      ]
     },
     "metadata": {
      "needs_background": "light"
     },
     "output_type": "display_data"
    }
   ],
   "source": [
    "from sklearn.datasets import load_iris\n",
    "iris = load_iris()\n",
    "mglearn.plots.plot_stratified_cross_validation()"
   ]
  },
  {
   "cell_type": "markdown",
   "metadata": {},
   "source": [
    "You can have some control over how the package functions; for instance you may specify the number of splits and whether to shuffle and split the data."
   ]
  },
  {
   "cell_type": "code",
   "execution_count": 7,
   "metadata": {},
   "outputs": [
    {
     "name": "stdout",
     "output_type": "stream",
     "text": [
      "Cross-validation scores:\n",
      "[1.         1.         0.86666667 0.93333333 0.83333333]\n"
     ]
    }
   ],
   "source": [
    "from sklearn.model_selection import KFold\n",
    "kfold = KFold(n_splits=5)\n",
    "print(\"Cross-validation scores:\\n{}\".format(\n",
    "      cross_val_score(logreg, iris.data, iris.target, cv=kfold)))"
   ]
  },
  {
   "cell_type": "code",
   "execution_count": 8,
   "metadata": {},
   "outputs": [
    {
     "name": "stdout",
     "output_type": "stream",
     "text": [
      "Cross-validation scores:\n",
      "[0.98 0.96 0.96]\n"
     ]
    }
   ],
   "source": [
    "kfold = KFold(n_splits=3, shuffle=True, random_state=0)\n",
    "print(\"Cross-validation scores:\\n{}\".format(\n",
    "    cross_val_score(logreg, iris.data, iris.target, cv=kfold)))"
   ]
  },
  {
   "cell_type": "markdown",
   "metadata": {},
   "source": [
    "#### Leave-one-out cross-validation\n",
    "\n",
    "Leave-one-out cross-validation is a special case of cross-validation where the number of folds equals the number of instances in the  data-set. As such, the learning algorithm is applied once for each instance and then all other instances are used as a  training set, with the selected instance as a single-item test set. "
   ]
  },
  {
   "cell_type": "code",
   "execution_count": 9,
   "metadata": {},
   "outputs": [
    {
     "name": "stdout",
     "output_type": "stream",
     "text": [
      "Number of cv iterations:  150\n",
      "Mean accuracy: 0.97\n"
     ]
    }
   ],
   "source": [
    "from sklearn.model_selection import LeaveOneOut\n",
    "loo = LeaveOneOut()\n",
    "scores = cross_val_score(logreg, iris.data, iris.target, cv=loo)\n",
    "print(\"Number of cv iterations: \", len(scores))\n",
    "print(\"Mean accuracy: {:.2f}\".format(scores.mean()))"
   ]
  },
  {
   "cell_type": "markdown",
   "metadata": {},
   "source": [
    "#### Shuffle-Split cross-validation\n",
    "\n",
    "The Shuffle-Split method will randomly sample your entire data-set during each iteration to generate a training set and a test set. Since you are sampling from the entire data-set during each iteration, it is possible that values selected during one iteration, could be selected again during another iteration."
   ]
  },
  {
   "cell_type": "code",
   "execution_count": 10,
   "metadata": {
    "hide_input": false
   },
   "outputs": [
    {
     "data": {
      "image/png": "[encoded data removed]",
      "text/plain": [
       "<Figure size 720x144 with 1 Axes>"
      ]
     },
     "metadata": {
      "needs_background": "light"
     },
     "output_type": "display_data"
    }
   ],
   "source": [
    "mglearn.plots.plot_shuffle_split()"
   ]
  },
  {
   "cell_type": "code",
   "execution_count": 11,
   "metadata": {},
   "outputs": [
    {
     "name": "stdout",
     "output_type": "stream",
     "text": [
      "Cross-validation scores:\n",
      "[0.94666667 0.96       0.97333333 0.98666667 0.98666667 0.97333333\n",
      " 0.93333333 0.96       0.93333333 0.97333333]\n"
     ]
    }
   ],
   "source": [
    "from sklearn.model_selection import ShuffleSplit\n",
    "shuffle_split = ShuffleSplit(test_size=.5, train_size=.5, n_splits=10)\n",
    "scores = cross_val_score(logreg, iris.data, iris.target, cv=shuffle_split)\n",
    "print(\"Cross-validation scores:\\n{}\".format(scores))"
   ]
  },
  {
   "cell_type": "markdown",
   "metadata": {},
   "source": [
    "##### Cross-validation with groups\n",
    "\n",
    "To prevent data leakage where the same data shows up in multiple folds you can use \"groups\". In essence group K-fold cross validation ensures that the folds are distinct and non-overlapping."
   ]
  },
  {
   "cell_type": "code",
   "execution_count": 12,
   "metadata": {
    "hide_input": false
   },
   "outputs": [
    {
     "data": {
      "image/png": "[encoded data removed]",
      "text/plain": [
       "<Figure size 720x144 with 1 Axes>"
      ]
     },
     "metadata": {
      "needs_background": "light"
     },
     "output_type": "display_data"
    }
   ],
   "source": [
    "mglearn.plots.plot_group_kfold()"
   ]
  },
  {
   "cell_type": "code",
   "execution_count": 13,
   "metadata": {},
   "outputs": [
    {
     "name": "stdout",
     "output_type": "stream",
     "text": [
      "Cross-validation scores:\n",
      "[0.75       0.6        0.66666667]\n"
     ]
    }
   ],
   "source": [
    "from sklearn.model_selection import GroupKFold\n",
    "# create synthetic dataset\n",
    "X, y = make_blobs(n_samples=12, random_state=0)\n",
    "# assume the first three samples belong to the same group,\n",
    "# then the next four, etc.\n",
    "groups = [0, 0, 0, 1, 1, 1, 1, 2, 2, 3, 3, 3]\n",
    "scores = cross_val_score(logreg, X, y, groups=groups, cv=GroupKFold(n_splits=3))\n",
    "print(\"Cross-validation scores:\\n{}\".format(scores))"
   ]
  },
  {
   "cell_type": "markdown",
   "metadata": {},
   "source": [
    "### Grid Search\n",
    "\n",
    "#### Simple Grid Search\n",
    "\n",
    "As discussed in the notes Grid-search is used to find the optimal hyperparameters of a model which results in the most ‘accurate’ predictions.\n"
   ]
  },
  {
   "cell_type": "code",
   "execution_count": 14,
   "metadata": {},
   "outputs": [
    {
     "name": "stdout",
     "output_type": "stream",
     "text": [
      "Size of training set: 112   size of test set: 38\n",
      "Best score: 0.97\n",
      "Best parameters: {'C': 100, 'gamma': 0.001}\n"
     ]
    }
   ],
   "source": [
    "# Naive grid search implementation\n",
    "from sklearn.svm import SVC\n",
    "X_train, X_test, y_train, y_test = train_test_split(\n",
    "    iris.data, iris.target, random_state=0)\n",
    "print(\"Size of training set: {}   size of test set: {}\".format(\n",
    "      X_train.shape[0], X_test.shape[0]))\n",
    "\n",
    "best_score = 0\n",
    "\n",
    "for gamma in [0.001, 0.01, 0.1, 1, 10, 100]:\n",
    "    for C in [0.001, 0.01, 0.1, 1, 10, 100]:\n",
    "        # for each combination of parameters, train an SVC\n",
    "        svm = SVC(gamma=gamma, C=C)\n",
    "        svm.fit(X_train, y_train)\n",
    "        # evaluate the SVC on the test set\n",
    "        score = svm.score(X_test, y_test)\n",
    "        # if we got a better score, store the score and parameters\n",
    "        if score > best_score:\n",
    "            best_score = score\n",
    "            best_parameters = {'C': C, 'gamma': gamma}\n",
    "\n",
    "print(\"Best score: {:.2f}\".format(best_score))\n",
    "print(\"Best parameters: {}\".format(best_parameters))"
   ]
  },
  {
   "cell_type": "markdown",
   "metadata": {},
   "source": [
    "Naturally there is a concern that we may end up overfitting the parameters. As such, we introduce a validation set as well. This allows us to rebuild a model on the combined training and validation set with the best parameter, and evaluate it on the test set."
   ]
  },
  {
   "cell_type": "code",
   "execution_count": 15,
   "metadata": {
    "hide_input": false
   },
   "outputs": [
    {
     "data": {
      "image/png": "[encoded data removed]",
      "text/plain": [
       "<Figure size 1080x72 with 1 Axes>"
      ]
     },
     "metadata": {
      "needs_background": "light"
     },
     "output_type": "display_data"
    }
   ],
   "source": [
    "mglearn.plots.plot_threefold_split()"
   ]
  },
  {
   "cell_type": "code",
   "execution_count": 16,
   "metadata": {},
   "outputs": [
    {
     "name": "stdout",
     "output_type": "stream",
     "text": [
      "Size of training set: 84   size of validation set: 28   size of test set: 38\n",
      "\n",
      "Best score on validation set: 0.96\n",
      "Best parameters:  {'C': 10, 'gamma': 0.001}\n",
      "Test set score with best parameters: 0.92\n"
     ]
    }
   ],
   "source": [
    "from sklearn.svm import SVC\n",
    "# split data into train+validation set and test set\n",
    "X_trainval, X_test, y_trainval, y_test = train_test_split(\n",
    "    iris.data, iris.target, random_state=0)\n",
    "# split train+validation set into training and validation sets\n",
    "X_train, X_valid, y_train, y_valid = train_test_split(\n",
    "    X_trainval, y_trainval, random_state=1)\n",
    "print(\"Size of training set: {}   size of validation set: {}   size of test set:\"\n",
    "      \" {}\\n\".format(X_train.shape[0], X_valid.shape[0], X_test.shape[0]))\n",
    "\n",
    "best_score = 0\n",
    "\n",
    "for gamma in [0.001, 0.01, 0.1, 1, 10, 100]:\n",
    "    for C in [0.001, 0.01, 0.1, 1, 10, 100]:\n",
    "        # for each combination of parameters, train an SVC\n",
    "        svm = SVC(gamma=gamma, C=C)\n",
    "        svm.fit(X_train, y_train)\n",
    "        # evaluate the SVC on the validation set\n",
    "        score = svm.score(X_valid, y_valid)\n",
    "        # if we got a better score, store the score and parameters\n",
    "        if score > best_score:\n",
    "            best_score = score\n",
    "            best_parameters = {'C': C, 'gamma': gamma}\n",
    "\n",
    "# rebuild a model on the combined training and validation set,\n",
    "# and evaluate it on the test set\n",
    "svm = SVC(**best_parameters)\n",
    "svm.fit(X_trainval, y_trainval)\n",
    "test_score = svm.score(X_test, y_test)\n",
    "print(\"Best score on validation set: {:.2f}\".format(best_score))\n",
    "print(\"Best parameters: \", best_parameters)\n",
    "print(\"Test set score with best parameters: {:.2f}\".format(test_score))"
   ]
  },
  {
   "cell_type": "markdown",
   "metadata": {},
   "source": [
    "#### Grid Search with Cross-Validation"
   ]
  },
  {
   "cell_type": "code",
   "execution_count": 17,
   "metadata": {},
   "outputs": [
    {
     "data": {
      "text/plain": [
       "SVC(C=10, gamma=0.1)"
      ]
     },
     "execution_count": 17,
     "metadata": {},
     "output_type": "execute_result"
    }
   ],
   "source": [
    "import numpy as np\n",
    "for gamma in [0.001, 0.01, 0.1, 1, 10, 100]:\n",
    "    for C in [0.001, 0.01, 0.1, 1, 10, 100]:\n",
    "        # for each combination of parameters,\n",
    "        # train an SVC\n",
    "        svm = SVC(gamma=gamma, C=C)\n",
    "        # perform cross-validation\n",
    "        scores = cross_val_score(svm, X_trainval, y_trainval, cv=5)\n",
    "        # compute mean cross-validation accuracy\n",
    "        score = np.mean(scores)\n",
    "        # if we got a better score, store the score and parameters\n",
    "        if score > best_score:\n",
    "            best_score = score\n",
    "            best_parameters = {'C': C, 'gamma': gamma}\n",
    "# rebuild a model on the combined training and validation set\n",
    "svm = SVC(**best_parameters)\n",
    "svm.fit(X_trainval, y_trainval)"
   ]
  },
  {
   "cell_type": "code",
   "execution_count": 62,
   "metadata": {
    "hide_input": false
   },
   "outputs": [
    {
     "data": {
      "image/png": "[encoded data removed]",
      "text/plain": [
       "<Figure size 700x210 with 1 Axes>"
      ]
     },
     "metadata": {
      "needs_background": "light"
     },
     "output_type": "display_data"
    }
   ],
   "source": [
    "mglearn.plots.plot_grid_search_overview()"
   ]
  },
  {
   "cell_type": "code",
   "execution_count": 22,
   "metadata": {},
   "outputs": [
    {
     "name": "stdout",
     "output_type": "stream",
     "text": [
      "Parameter grid:\n",
      "{'C': [0.001, 0.01, 0.1, 1, 10, 100], 'gamma': [0.001, 0.01, 0.1, 1, 10, 100]}\n"
     ]
    }
   ],
   "source": [
    "param_grid = {'C': [0.001, 0.01, 0.1, 1, 10, 100],\n",
    "              'gamma': [0.001, 0.01, 0.1, 1, 10, 100]}\n",
    "print(\"Parameter grid:\\n{}\".format(param_grid))"
   ]
  },
  {
   "cell_type": "code",
   "execution_count": 23,
   "metadata": {},
   "outputs": [],
   "source": [
    "from sklearn.model_selection import GridSearchCV\n",
    "from sklearn.svm import SVC\n",
    "grid_search = GridSearchCV(SVC(), param_grid, cv=5,\n",
    "                          return_train_score=True)"
   ]
  },
  {
   "cell_type": "code",
   "execution_count": 24,
   "metadata": {},
   "outputs": [],
   "source": [
    "X_train, X_test, y_train, y_test = train_test_split(\n",
    "    iris.data, iris.target, random_state=0)"
   ]
  },
  {
   "cell_type": "code",
   "execution_count": 25,
   "metadata": {},
   "outputs": [
    {
     "data": {
      "text/plain": [
       "GridSearchCV(cv=5, estimator=SVC(),\n",
       "             param_grid={'C': [0.001, 0.01, 0.1, 1, 10, 100],\n",
       "                         'gamma': [0.001, 0.01, 0.1, 1, 10, 100]},\n",
       "             return_train_score=True)"
      ]
     },
     "execution_count": 25,
     "metadata": {},
     "output_type": "execute_result"
    }
   ],
   "source": [
    "grid_search.fit(X_train, y_train)"
   ]
  },
  {
   "cell_type": "code",
   "execution_count": 26,
   "metadata": {},
   "outputs": [
    {
     "name": "stdout",
     "output_type": "stream",
     "text": [
      "Test set score: 0.97\n"
     ]
    }
   ],
   "source": [
    "print(\"Test set score: {:.2f}\".format(grid_search.score(X_test, y_test)))"
   ]
  },
  {
   "cell_type": "code",
   "execution_count": 27,
   "metadata": {},
   "outputs": [
    {
     "name": "stdout",
     "output_type": "stream",
     "text": [
      "Best parameters: {'C': 10, 'gamma': 0.1}\n",
      "Best cross-validation score: 0.97\n"
     ]
    }
   ],
   "source": [
    "print(\"Best parameters: {}\".format(grid_search.best_params_))\n",
    "print(\"Best cross-validation score: {:.2f}\".format(grid_search.best_score_))"
   ]
  },
  {
   "cell_type": "code",
   "execution_count": 28,
   "metadata": {},
   "outputs": [
    {
     "name": "stdout",
     "output_type": "stream",
     "text": [
      "Best estimator:\n",
      "SVC(C=10, gamma=0.1)\n"
     ]
    }
   ],
   "source": [
    "print(\"Best estimator:\\n{}\".format(grid_search.best_estimator_))"
   ]
  },
  {
   "cell_type": "markdown",
   "metadata": {},
   "source": [
    "##### Analysing the result of cross-validation"
   ]
  },
  {
   "cell_type": "code",
   "execution_count": 29,
   "metadata": {},
   "outputs": [
    {
     "data": {
      "text/html": [
       "<div>\n",
       "<style scoped>\n",
       "    .dataframe tbody tr th:only-of-type {\n",
       "        vertical-align: middle;\n",
       "    }\n",
       "\n",
       "    .dataframe tbody tr th {\n",
       "        vertical-align: top;\n",
       "    }\n",
       "\n",
       "    .dataframe thead th {\n",
       "        text-align: right;\n",
       "    }\n",
       "</style>\n",
       "<table border=\"1\" class=\"dataframe\">\n",
       "  <thead>\n",
       "    <tr style=\"text-align: right;\">\n",
       "      <th></th>\n",
       "      <th>mean_fit_time</th>\n",
       "      <th>std_fit_time</th>\n",
       "      <th>mean_score_time</th>\n",
       "      <th>std_score_time</th>\n",
       "      <th>param_C</th>\n",
       "      <th>param_gamma</th>\n",
       "      <th>params</th>\n",
       "      <th>split0_test_score</th>\n",
       "      <th>split1_test_score</th>\n",
       "      <th>split2_test_score</th>\n",
       "      <th>...</th>\n",
       "      <th>mean_test_score</th>\n",
       "      <th>std_test_score</th>\n",
       "      <th>rank_test_score</th>\n",
       "      <th>split0_train_score</th>\n",
       "      <th>split1_train_score</th>\n",
       "      <th>split2_train_score</th>\n",
       "      <th>split3_train_score</th>\n",
       "      <th>split4_train_score</th>\n",
       "      <th>mean_train_score</th>\n",
       "      <th>std_train_score</th>\n",
       "    </tr>\n",
       "  </thead>\n",
       "  <tbody>\n",
       "    <tr>\n",
       "      <th>0</th>\n",
       "      <td>0.002256</td>\n",
       "      <td>0.000753</td>\n",
       "      <td>0.000946</td>\n",
       "      <td>0.000367</td>\n",
       "      <td>0.001</td>\n",
       "      <td>0.001</td>\n",
       "      <td>{'C': 0.001, 'gamma': 0.001}</td>\n",
       "      <td>0.347826</td>\n",
       "      <td>0.347826</td>\n",
       "      <td>0.363636</td>\n",
       "      <td>...</td>\n",
       "      <td>0.366403</td>\n",
       "      <td>0.022485</td>\n",
       "      <td>22</td>\n",
       "      <td>0.370787</td>\n",
       "      <td>0.370787</td>\n",
       "      <td>0.366667</td>\n",
       "      <td>0.366667</td>\n",
       "      <td>0.355556</td>\n",
       "      <td>0.366092</td>\n",
       "      <td>0.005581</td>\n",
       "    </tr>\n",
       "    <tr>\n",
       "      <th>1</th>\n",
       "      <td>0.001425</td>\n",
       "      <td>0.000065</td>\n",
       "      <td>0.000579</td>\n",
       "      <td>0.000008</td>\n",
       "      <td>0.001</td>\n",
       "      <td>0.01</td>\n",
       "      <td>{'C': 0.001, 'gamma': 0.01}</td>\n",
       "      <td>0.347826</td>\n",
       "      <td>0.347826</td>\n",
       "      <td>0.363636</td>\n",
       "      <td>...</td>\n",
       "      <td>0.366403</td>\n",
       "      <td>0.022485</td>\n",
       "      <td>22</td>\n",
       "      <td>0.370787</td>\n",
       "      <td>0.370787</td>\n",
       "      <td>0.366667</td>\n",
       "      <td>0.366667</td>\n",
       "      <td>0.355556</td>\n",
       "      <td>0.366092</td>\n",
       "      <td>0.005581</td>\n",
       "    </tr>\n",
       "    <tr>\n",
       "      <th>2</th>\n",
       "      <td>0.001235</td>\n",
       "      <td>0.000093</td>\n",
       "      <td>0.000517</td>\n",
       "      <td>0.000062</td>\n",
       "      <td>0.001</td>\n",
       "      <td>0.1</td>\n",
       "      <td>{'C': 0.001, 'gamma': 0.1}</td>\n",
       "      <td>0.347826</td>\n",
       "      <td>0.347826</td>\n",
       "      <td>0.363636</td>\n",
       "      <td>...</td>\n",
       "      <td>0.366403</td>\n",
       "      <td>0.022485</td>\n",
       "      <td>22</td>\n",
       "      <td>0.370787</td>\n",
       "      <td>0.370787</td>\n",
       "      <td>0.366667</td>\n",
       "      <td>0.366667</td>\n",
       "      <td>0.355556</td>\n",
       "      <td>0.366092</td>\n",
       "      <td>0.005581</td>\n",
       "    </tr>\n",
       "    <tr>\n",
       "      <th>3</th>\n",
       "      <td>0.000972</td>\n",
       "      <td>0.000055</td>\n",
       "      <td>0.000394</td>\n",
       "      <td>0.000026</td>\n",
       "      <td>0.001</td>\n",
       "      <td>1</td>\n",
       "      <td>{'C': 0.001, 'gamma': 1}</td>\n",
       "      <td>0.347826</td>\n",
       "      <td>0.347826</td>\n",
       "      <td>0.363636</td>\n",
       "      <td>...</td>\n",
       "      <td>0.366403</td>\n",
       "      <td>0.022485</td>\n",
       "      <td>22</td>\n",
       "      <td>0.370787</td>\n",
       "      <td>0.370787</td>\n",
       "      <td>0.366667</td>\n",
       "      <td>0.366667</td>\n",
       "      <td>0.355556</td>\n",
       "      <td>0.366092</td>\n",
       "      <td>0.005581</td>\n",
       "    </tr>\n",
       "    <tr>\n",
       "      <th>4</th>\n",
       "      <td>0.000812</td>\n",
       "      <td>0.000031</td>\n",
       "      <td>0.000340</td>\n",
       "      <td>0.000023</td>\n",
       "      <td>0.001</td>\n",
       "      <td>10</td>\n",
       "      <td>{'C': 0.001, 'gamma': 10}</td>\n",
       "      <td>0.347826</td>\n",
       "      <td>0.347826</td>\n",
       "      <td>0.363636</td>\n",
       "      <td>...</td>\n",
       "      <td>0.366403</td>\n",
       "      <td>0.022485</td>\n",
       "      <td>22</td>\n",
       "      <td>0.370787</td>\n",
       "      <td>0.370787</td>\n",
       "      <td>0.366667</td>\n",
       "      <td>0.366667</td>\n",
       "      <td>0.355556</td>\n",
       "      <td>0.366092</td>\n",
       "      <td>0.005581</td>\n",
       "    </tr>\n",
       "  </tbody>\n",
       "</table>\n",
       "<p>5 rows × 22 columns</p>\n",
       "</div>"
      ],
      "text/plain": [
       "   mean_fit_time  std_fit_time  mean_score_time  std_score_time param_C  \\\n",
       "0       0.002256      0.000753         0.000946        0.000367   0.001   \n",
       "1       0.001425      0.000065         0.000579        0.000008   0.001   \n",
       "2       0.001235      0.000093         0.000517        0.000062   0.001   \n",
       "3       0.000972      0.000055         0.000394        0.000026   0.001   \n",
       "4       0.000812      0.000031         0.000340        0.000023   0.001   \n",
       "\n",
       "  param_gamma                        params  split0_test_score  \\\n",
       "0       0.001  {'C': 0.001, 'gamma': 0.001}           0.347826   \n",
       "1        0.01   {'C': 0.001, 'gamma': 0.01}           0.347826   \n",
       "2         0.1    {'C': 0.001, 'gamma': 0.1}           0.347826   \n",
       "3           1      {'C': 0.001, 'gamma': 1}           0.347826   \n",
       "4          10     {'C': 0.001, 'gamma': 10}           0.347826   \n",
       "\n",
       "   split1_test_score  split2_test_score  ...  mean_test_score  std_test_score  \\\n",
       "0           0.347826           0.363636  ...         0.366403        0.022485   \n",
       "1           0.347826           0.363636  ...         0.366403        0.022485   \n",
       "2           0.347826           0.363636  ...         0.366403        0.022485   \n",
       "3           0.347826           0.363636  ...         0.366403        0.022485   \n",
       "4           0.347826           0.363636  ...         0.366403        0.022485   \n",
       "\n",
       "   rank_test_score  split0_train_score  split1_train_score  \\\n",
       "0               22            0.370787            0.370787   \n",
       "1               22            0.370787            0.370787   \n",
       "2               22            0.370787            0.370787   \n",
       "3               22            0.370787            0.370787   \n",
       "4               22            0.370787            0.370787   \n",
       "\n",
       "   split2_train_score  split3_train_score  split4_train_score  \\\n",
       "0            0.366667            0.366667            0.355556   \n",
       "1            0.366667            0.366667            0.355556   \n",
       "2            0.366667            0.366667            0.355556   \n",
       "3            0.366667            0.366667            0.355556   \n",
       "4            0.366667            0.366667            0.355556   \n",
       "\n",
       "   mean_train_score  std_train_score  \n",
       "0          0.366092         0.005581  \n",
       "1          0.366092         0.005581  \n",
       "2          0.366092         0.005581  \n",
       "3          0.366092         0.005581  \n",
       "4          0.366092         0.005581  \n",
       "\n",
       "[5 rows x 22 columns]"
      ]
     },
     "metadata": {},
     "output_type": "display_data"
    }
   ],
   "source": [
    "import pandas as pd\n",
    "# convert to Dataframe\n",
    "results = pd.DataFrame(grid_search.cv_results_)\n",
    "# show the first 5 rows\n",
    "display(results.head())"
   ]
  },
  {
   "cell_type": "code",
   "execution_count": 30,
   "metadata": {},
   "outputs": [
    {
     "data": {
      "text/plain": [
       "<matplotlib.collections.PolyCollection at 0x7fc47bb32f70>"
      ]
     },
     "execution_count": 30,
     "metadata": {},
     "output_type": "execute_result"
    },
    {
     "data": {
      "image/png": "[encoded data removed]",
      "text/plain": [
       "<Figure size 432x288 with 1 Axes>"
      ]
     },
     "metadata": {
      "needs_background": "light"
     },
     "output_type": "display_data"
    }
   ],
   "source": [
    "scores = np.array(results.mean_test_score).reshape(6, 6)\n",
    "\n",
    "# plot the mean cross-validation scores\n",
    "mglearn.tools.heatmap(scores, xlabel='gamma', xticklabels=param_grid['gamma'],\n",
    "                      ylabel='C', yticklabels=param_grid['C'], cmap=\"viridis\")"
   ]
  },
  {
   "cell_type": "code",
   "execution_count": 31,
   "metadata": {},
   "outputs": [
    {
     "data": {
      "image/png": "[encoded data removed]",
      "text/plain": [
       "<Figure size 936x360 with 4 Axes>"
      ]
     },
     "metadata": {
      "needs_background": "light"
     },
     "output_type": "display_data"
    }
   ],
   "source": [
    "from matplotlib import pyplot as plt\n",
    "fig, axes = plt.subplots(1, 3, figsize=(13, 5))\n",
    "\n",
    "param_grid_linear = {'C': np.linspace(1, 2, 6),\n",
    "                     'gamma':  np.linspace(1, 2, 6)}\n",
    "\n",
    "param_grid_one_log = {'C': np.linspace(1, 2, 6),\n",
    "                      'gamma':  np.logspace(-3, 2, 6)}\n",
    "\n",
    "param_grid_range = {'C': np.logspace(-3, 2, 6),\n",
    "                    'gamma':  np.logspace(-7, -2, 6)}\n",
    "\n",
    "for param_grid, ax in zip([param_grid_linear, param_grid_one_log,\n",
    "                           param_grid_range], axes):\n",
    "    grid_search = GridSearchCV(SVC(), param_grid, cv=5)\n",
    "    grid_search.fit(X_train, y_train)\n",
    "    scores = grid_search.cv_results_['mean_test_score'].reshape(6, 6)\n",
    "\n",
    "    # plot the mean cross-validation scores\n",
    "    scores_image = mglearn.tools.heatmap(\n",
    "        scores, xlabel='gamma', ylabel='C', xticklabels=param_grid['gamma'],\n",
    "        yticklabels=param_grid['C'], cmap=\"viridis\", ax=ax)\n",
    "\n",
    "plt.colorbar(scores_image, ax=axes.tolist())\n",
    "\n",
    "plt.show()"
   ]
  },
  {
   "cell_type": "code",
   "execution_count": 32,
   "metadata": {},
   "outputs": [
    {
     "name": "stdout",
     "output_type": "stream",
     "text": [
      "List of grids:\n",
      "[{'kernel': ['rbf'], 'C': [0.001, 0.01, 0.1, 1, 10, 100], 'gamma': [0.001, 0.01, 0.1, 1, 10, 100]}, {'kernel': ['linear'], 'C': [0.001, 0.01, 0.1, 1, 10, 100]}]\n"
     ]
    }
   ],
   "source": [
    "param_grid = [{'kernel': ['rbf'],\n",
    "               'C': [0.001, 0.01, 0.1, 1, 10, 100],\n",
    "               'gamma': [0.001, 0.01, 0.1, 1, 10, 100]},\n",
    "              {'kernel': ['linear'],\n",
    "               'C': [0.001, 0.01, 0.1, 1, 10, 100]}]\n",
    "print(\"List of grids:\\n{}\".format(param_grid))"
   ]
  },
  {
   "cell_type": "code",
   "execution_count": 33,
   "metadata": {},
   "outputs": [
    {
     "name": "stdout",
     "output_type": "stream",
     "text": [
      "Best parameters: {'C': 10, 'gamma': 0.1, 'kernel': 'rbf'}\n",
      "Best cross-validation score: 0.97\n"
     ]
    }
   ],
   "source": [
    "grid_search = GridSearchCV(SVC(), param_grid, cv=5,\n",
    "                          return_train_score=True)\n",
    "grid_search.fit(X_train, y_train)\n",
    "print(\"Best parameters: {}\".format(grid_search.best_params_))\n",
    "print(\"Best cross-validation score: {:.2f}\".format(grid_search.best_score_))"
   ]
  },
  {
   "cell_type": "code",
   "execution_count": 34,
   "metadata": {},
   "outputs": [
    {
     "data": {
      "text/html": [
       "<div>\n",
       "<style scoped>\n",
       "    .dataframe tbody tr th:only-of-type {\n",
       "        vertical-align: middle;\n",
       "    }\n",
       "\n",
       "    .dataframe tbody tr th {\n",
       "        vertical-align: top;\n",
       "    }\n",
       "\n",
       "    .dataframe thead th {\n",
       "        text-align: right;\n",
       "    }\n",
       "</style>\n",
       "<table border=\"1\" class=\"dataframe\">\n",
       "  <thead>\n",
       "    <tr style=\"text-align: right;\">\n",
       "      <th></th>\n",
       "      <th>0</th>\n",
       "      <th>1</th>\n",
       "      <th>2</th>\n",
       "      <th>3</th>\n",
       "      <th>4</th>\n",
       "      <th>5</th>\n",
       "      <th>6</th>\n",
       "      <th>7</th>\n",
       "      <th>8</th>\n",
       "      <th>9</th>\n",
       "      <th>...</th>\n",
       "      <th>32</th>\n",
       "      <th>33</th>\n",
       "      <th>34</th>\n",
       "      <th>35</th>\n",
       "      <th>36</th>\n",
       "      <th>37</th>\n",
       "      <th>38</th>\n",
       "      <th>39</th>\n",
       "      <th>40</th>\n",
       "      <th>41</th>\n",
       "    </tr>\n",
       "  </thead>\n",
       "  <tbody>\n",
       "    <tr>\n",
       "      <th>mean_fit_time</th>\n",
       "      <td>0.001768</td>\n",
       "      <td>0.000782</td>\n",
       "      <td>0.000777</td>\n",
       "      <td>0.000818</td>\n",
       "      <td>0.000771</td>\n",
       "      <td>0.00072</td>\n",
       "      <td>0.000781</td>\n",
       "      <td>0.000755</td>\n",
       "      <td>0.000773</td>\n",
       "      <td>0.000767</td>\n",
       "      <td>...</td>\n",
       "      <td>0.000298</td>\n",
       "      <td>0.000445</td>\n",
       "      <td>0.000859</td>\n",
       "      <td>0.000842</td>\n",
       "      <td>0.000542</td>\n",
       "      <td>0.000448</td>\n",
       "      <td>0.000326</td>\n",
       "      <td>0.000286</td>\n",
       "      <td>0.000282</td>\n",
       "      <td>0.000288</td>\n",
       "    </tr>\n",
       "    <tr>\n",
       "      <th>std_fit_time</th>\n",
       "      <td>0.000863</td>\n",
       "      <td>0.000023</td>\n",
       "      <td>0.000004</td>\n",
       "      <td>0.00003</td>\n",
       "      <td>0.000006</td>\n",
       "      <td>0.000013</td>\n",
       "      <td>0.000015</td>\n",
       "      <td>0.000009</td>\n",
       "      <td>0.00001</td>\n",
       "      <td>0.00001</td>\n",
       "      <td>...</td>\n",
       "      <td>0.000009</td>\n",
       "      <td>0.000009</td>\n",
       "      <td>0.000015</td>\n",
       "      <td>0.000012</td>\n",
       "      <td>0.000012</td>\n",
       "      <td>0.000002</td>\n",
       "      <td>0.000003</td>\n",
       "      <td>0.000008</td>\n",
       "      <td>0.00001</td>\n",
       "      <td>0.000022</td>\n",
       "    </tr>\n",
       "    <tr>\n",
       "      <th>mean_score_time</th>\n",
       "      <td>0.000745</td>\n",
       "      <td>0.000327</td>\n",
       "      <td>0.000325</td>\n",
       "      <td>0.000339</td>\n",
       "      <td>0.00032</td>\n",
       "      <td>0.000316</td>\n",
       "      <td>0.000328</td>\n",
       "      <td>0.000318</td>\n",
       "      <td>0.000323</td>\n",
       "      <td>0.000321</td>\n",
       "      <td>...</td>\n",
       "      <td>0.000165</td>\n",
       "      <td>0.000201</td>\n",
       "      <td>0.000293</td>\n",
       "      <td>0.000318</td>\n",
       "      <td>0.00018</td>\n",
       "      <td>0.000175</td>\n",
       "      <td>0.000157</td>\n",
       "      <td>0.000143</td>\n",
       "      <td>0.00014</td>\n",
       "      <td>0.000139</td>\n",
       "    </tr>\n",
       "    <tr>\n",
       "      <th>std_score_time</th>\n",
       "      <td>0.000344</td>\n",
       "      <td>0.000012</td>\n",
       "      <td>0.000006</td>\n",
       "      <td>0.000025</td>\n",
       "      <td>0.000003</td>\n",
       "      <td>0.000007</td>\n",
       "      <td>0.000006</td>\n",
       "      <td>0.000003</td>\n",
       "      <td>0.000006</td>\n",
       "      <td>0.000002</td>\n",
       "      <td>...</td>\n",
       "      <td>0.000002</td>\n",
       "      <td>0.000004</td>\n",
       "      <td>0.000005</td>\n",
       "      <td>0.000004</td>\n",
       "      <td>0.000001</td>\n",
       "      <td>0.000001</td>\n",
       "      <td>0.000001</td>\n",
       "      <td>0.000001</td>\n",
       "      <td>0.000001</td>\n",
       "      <td>0.000001</td>\n",
       "    </tr>\n",
       "    <tr>\n",
       "      <th>param_C</th>\n",
       "      <td>0.001</td>\n",
       "      <td>0.001</td>\n",
       "      <td>0.001</td>\n",
       "      <td>0.001</td>\n",
       "      <td>0.001</td>\n",
       "      <td>0.001</td>\n",
       "      <td>0.01</td>\n",
       "      <td>0.01</td>\n",
       "      <td>0.01</td>\n",
       "      <td>0.01</td>\n",
       "      <td>...</td>\n",
       "      <td>100</td>\n",
       "      <td>100</td>\n",
       "      <td>100</td>\n",
       "      <td>100</td>\n",
       "      <td>0.001</td>\n",
       "      <td>0.01</td>\n",
       "      <td>0.1</td>\n",
       "      <td>1</td>\n",
       "      <td>10</td>\n",
       "      <td>100</td>\n",
       "    </tr>\n",
       "    <tr>\n",
       "      <th>param_gamma</th>\n",
       "      <td>0.001</td>\n",
       "      <td>0.01</td>\n",
       "      <td>0.1</td>\n",
       "      <td>1</td>\n",
       "      <td>10</td>\n",
       "      <td>100</td>\n",
       "      <td>0.001</td>\n",
       "      <td>0.01</td>\n",
       "      <td>0.1</td>\n",
       "      <td>1</td>\n",
       "      <td>...</td>\n",
       "      <td>0.1</td>\n",
       "      <td>1</td>\n",
       "      <td>10</td>\n",
       "      <td>100</td>\n",
       "      <td>NaN</td>\n",
       "      <td>NaN</td>\n",
       "      <td>NaN</td>\n",
       "      <td>NaN</td>\n",
       "      <td>NaN</td>\n",
       "      <td>NaN</td>\n",
       "    </tr>\n",
       "    <tr>\n",
       "      <th>param_kernel</th>\n",
       "      <td>rbf</td>\n",
       "      <td>rbf</td>\n",
       "      <td>rbf</td>\n",
       "      <td>rbf</td>\n",
       "      <td>rbf</td>\n",
       "      <td>rbf</td>\n",
       "      <td>rbf</td>\n",
       "      <td>rbf</td>\n",
       "      <td>rbf</td>\n",
       "      <td>rbf</td>\n",
       "      <td>...</td>\n",
       "      <td>rbf</td>\n",
       "      <td>rbf</td>\n",
       "      <td>rbf</td>\n",
       "      <td>rbf</td>\n",
       "      <td>linear</td>\n",
       "      <td>linear</td>\n",
       "      <td>linear</td>\n",
       "      <td>linear</td>\n",
       "      <td>linear</td>\n",
       "      <td>linear</td>\n",
       "    </tr>\n",
       "    <tr>\n",
       "      <th>params</th>\n",
       "      <td>{'C': 0.001, 'gamma': 0.001, 'kernel': 'rbf'}</td>\n",
       "      <td>{'C': 0.001, 'gamma': 0.01, 'kernel': 'rbf'}</td>\n",
       "      <td>{'C': 0.001, 'gamma': 0.1, 'kernel': 'rbf'}</td>\n",
       "      <td>{'C': 0.001, 'gamma': 1, 'kernel': 'rbf'}</td>\n",
       "      <td>{'C': 0.001, 'gamma': 10, 'kernel': 'rbf'}</td>\n",
       "      <td>{'C': 0.001, 'gamma': 100, 'kernel': 'rbf'}</td>\n",
       "      <td>{'C': 0.01, 'gamma': 0.001, 'kernel': 'rbf'}</td>\n",
       "      <td>{'C': 0.01, 'gamma': 0.01, 'kernel': 'rbf'}</td>\n",
       "      <td>{'C': 0.01, 'gamma': 0.1, 'kernel': 'rbf'}</td>\n",
       "      <td>{'C': 0.01, 'gamma': 1, 'kernel': 'rbf'}</td>\n",
       "      <td>...</td>\n",
       "      <td>{'C': 100, 'gamma': 0.1, 'kernel': 'rbf'}</td>\n",
       "      <td>{'C': 100, 'gamma': 1, 'kernel': 'rbf'}</td>\n",
       "      <td>{'C': 100, 'gamma': 10, 'kernel': 'rbf'}</td>\n",
       "      <td>{'C': 100, 'gamma': 100, 'kernel': 'rbf'}</td>\n",
       "      <td>{'C': 0.001, 'kernel': 'linear'}</td>\n",
       "      <td>{'C': 0.01, 'kernel': 'linear'}</td>\n",
       "      <td>{'C': 0.1, 'kernel': 'linear'}</td>\n",
       "      <td>{'C': 1, 'kernel': 'linear'}</td>\n",
       "      <td>{'C': 10, 'kernel': 'linear'}</td>\n",
       "      <td>{'C': 100, 'kernel': 'linear'}</td>\n",
       "    </tr>\n",
       "    <tr>\n",
       "      <th>split0_test_score</th>\n",
       "      <td>0.347826</td>\n",
       "      <td>0.347826</td>\n",
       "      <td>0.347826</td>\n",
       "      <td>0.347826</td>\n",
       "      <td>0.347826</td>\n",
       "      <td>0.347826</td>\n",
       "      <td>0.347826</td>\n",
       "      <td>0.347826</td>\n",
       "      <td>0.347826</td>\n",
       "      <td>0.347826</td>\n",
       "      <td>...</td>\n",
       "      <td>1.0</td>\n",
       "      <td>0.956522</td>\n",
       "      <td>0.869565</td>\n",
       "      <td>0.521739</td>\n",
       "      <td>0.347826</td>\n",
       "      <td>0.869565</td>\n",
       "      <td>1.0</td>\n",
       "      <td>1.0</td>\n",
       "      <td>1.0</td>\n",
       "      <td>0.956522</td>\n",
       "    </tr>\n",
       "    <tr>\n",
       "      <th>split1_test_score</th>\n",
       "      <td>0.347826</td>\n",
       "      <td>0.347826</td>\n",
       "      <td>0.347826</td>\n",
       "      <td>0.347826</td>\n",
       "      <td>0.347826</td>\n",
       "      <td>0.347826</td>\n",
       "      <td>0.347826</td>\n",
       "      <td>0.347826</td>\n",
       "      <td>0.347826</td>\n",
       "      <td>0.347826</td>\n",
       "      <td>...</td>\n",
       "      <td>0.956522</td>\n",
       "      <td>0.956522</td>\n",
       "      <td>0.913043</td>\n",
       "      <td>0.521739</td>\n",
       "      <td>0.347826</td>\n",
       "      <td>0.869565</td>\n",
       "      <td>0.913043</td>\n",
       "      <td>0.956522</td>\n",
       "      <td>1.0</td>\n",
       "      <td>0.956522</td>\n",
       "    </tr>\n",
       "    <tr>\n",
       "      <th>split2_test_score</th>\n",
       "      <td>0.363636</td>\n",
       "      <td>0.363636</td>\n",
       "      <td>0.363636</td>\n",
       "      <td>0.363636</td>\n",
       "      <td>0.363636</td>\n",
       "      <td>0.363636</td>\n",
       "      <td>0.363636</td>\n",
       "      <td>0.363636</td>\n",
       "      <td>0.363636</td>\n",
       "      <td>0.363636</td>\n",
       "      <td>...</td>\n",
       "      <td>1.0</td>\n",
       "      <td>1.0</td>\n",
       "      <td>1.0</td>\n",
       "      <td>0.590909</td>\n",
       "      <td>0.363636</td>\n",
       "      <td>0.772727</td>\n",
       "      <td>1.0</td>\n",
       "      <td>1.0</td>\n",
       "      <td>1.0</td>\n",
       "      <td>1.0</td>\n",
       "    </tr>\n",
       "    <tr>\n",
       "      <th>split3_test_score</th>\n",
       "      <td>0.363636</td>\n",
       "      <td>0.363636</td>\n",
       "      <td>0.363636</td>\n",
       "      <td>0.363636</td>\n",
       "      <td>0.363636</td>\n",
       "      <td>0.363636</td>\n",
       "      <td>0.363636</td>\n",
       "      <td>0.363636</td>\n",
       "      <td>0.363636</td>\n",
       "      <td>0.363636</td>\n",
       "      <td>...</td>\n",
       "      <td>0.863636</td>\n",
       "      <td>0.863636</td>\n",
       "      <td>0.818182</td>\n",
       "      <td>0.590909</td>\n",
       "      <td>0.363636</td>\n",
       "      <td>0.772727</td>\n",
       "      <td>0.909091</td>\n",
       "      <td>0.954545</td>\n",
       "      <td>0.909091</td>\n",
       "      <td>0.909091</td>\n",
       "    </tr>\n",
       "    <tr>\n",
       "      <th>split4_test_score</th>\n",
       "      <td>0.409091</td>\n",
       "      <td>0.409091</td>\n",
       "      <td>0.409091</td>\n",
       "      <td>0.409091</td>\n",
       "      <td>0.409091</td>\n",
       "      <td>0.409091</td>\n",
       "      <td>0.409091</td>\n",
       "      <td>0.409091</td>\n",
       "      <td>0.409091</td>\n",
       "      <td>0.409091</td>\n",
       "      <td>...</td>\n",
       "      <td>0.954545</td>\n",
       "      <td>0.954545</td>\n",
       "      <td>0.954545</td>\n",
       "      <td>0.681818</td>\n",
       "      <td>0.409091</td>\n",
       "      <td>0.909091</td>\n",
       "      <td>0.954545</td>\n",
       "      <td>0.954545</td>\n",
       "      <td>0.954545</td>\n",
       "      <td>0.954545</td>\n",
       "    </tr>\n",
       "    <tr>\n",
       "      <th>mean_test_score</th>\n",
       "      <td>0.366403</td>\n",
       "      <td>0.366403</td>\n",
       "      <td>0.366403</td>\n",
       "      <td>0.366403</td>\n",
       "      <td>0.366403</td>\n",
       "      <td>0.366403</td>\n",
       "      <td>0.366403</td>\n",
       "      <td>0.366403</td>\n",
       "      <td>0.366403</td>\n",
       "      <td>0.366403</td>\n",
       "      <td>...</td>\n",
       "      <td>0.954941</td>\n",
       "      <td>0.946245</td>\n",
       "      <td>0.911067</td>\n",
       "      <td>0.581423</td>\n",
       "      <td>0.366403</td>\n",
       "      <td>0.838735</td>\n",
       "      <td>0.955336</td>\n",
       "      <td>0.973123</td>\n",
       "      <td>0.972727</td>\n",
       "      <td>0.955336</td>\n",
       "    </tr>\n",
       "    <tr>\n",
       "      <th>std_test_score</th>\n",
       "      <td>0.022485</td>\n",
       "      <td>0.022485</td>\n",
       "      <td>0.022485</td>\n",
       "      <td>0.022485</td>\n",
       "      <td>0.022485</td>\n",
       "      <td>0.022485</td>\n",
       "      <td>0.022485</td>\n",
       "      <td>0.022485</td>\n",
       "      <td>0.022485</td>\n",
       "      <td>0.022485</td>\n",
       "      <td>...</td>\n",
       "      <td>0.049799</td>\n",
       "      <td>0.044708</td>\n",
       "      <td>0.063488</td>\n",
       "      <td>0.058964</td>\n",
       "      <td>0.022485</td>\n",
       "      <td>0.055794</td>\n",
       "      <td>0.039794</td>\n",
       "      <td>0.021957</td>\n",
       "      <td>0.036364</td>\n",
       "      <td>0.028764</td>\n",
       "    </tr>\n",
       "    <tr>\n",
       "      <th>rank_test_score</th>\n",
       "      <td>27</td>\n",
       "      <td>27</td>\n",
       "      <td>27</td>\n",
       "      <td>27</td>\n",
       "      <td>27</td>\n",
       "      <td>27</td>\n",
       "      <td>27</td>\n",
       "      <td>27</td>\n",
       "      <td>27</td>\n",
       "      <td>27</td>\n",
       "      <td>...</td>\n",
       "      <td>11</td>\n",
       "      <td>13</td>\n",
       "      <td>18</td>\n",
       "      <td>24</td>\n",
       "      <td>27</td>\n",
       "      <td>21</td>\n",
       "      <td>8</td>\n",
       "      <td>1</td>\n",
       "      <td>3</td>\n",
       "      <td>8</td>\n",
       "    </tr>\n",
       "    <tr>\n",
       "      <th>split0_train_score</th>\n",
       "      <td>0.370787</td>\n",
       "      <td>0.370787</td>\n",
       "      <td>0.370787</td>\n",
       "      <td>0.370787</td>\n",
       "      <td>0.370787</td>\n",
       "      <td>0.370787</td>\n",
       "      <td>0.370787</td>\n",
       "      <td>0.370787</td>\n",
       "      <td>0.370787</td>\n",
       "      <td>0.370787</td>\n",
       "      <td>...</td>\n",
       "      <td>0.988764</td>\n",
       "      <td>1.0</td>\n",
       "      <td>1.0</td>\n",
       "      <td>1.0</td>\n",
       "      <td>0.370787</td>\n",
       "      <td>0.853933</td>\n",
       "      <td>0.966292</td>\n",
       "      <td>0.988764</td>\n",
       "      <td>0.988764</td>\n",
       "      <td>0.977528</td>\n",
       "    </tr>\n",
       "    <tr>\n",
       "      <th>split1_train_score</th>\n",
       "      <td>0.370787</td>\n",
       "      <td>0.370787</td>\n",
       "      <td>0.370787</td>\n",
       "      <td>0.370787</td>\n",
       "      <td>0.370787</td>\n",
       "      <td>0.370787</td>\n",
       "      <td>0.370787</td>\n",
       "      <td>0.370787</td>\n",
       "      <td>0.370787</td>\n",
       "      <td>0.370787</td>\n",
       "      <td>...</td>\n",
       "      <td>0.988764</td>\n",
       "      <td>1.0</td>\n",
       "      <td>1.0</td>\n",
       "      <td>1.0</td>\n",
       "      <td>0.370787</td>\n",
       "      <td>0.910112</td>\n",
       "      <td>0.966292</td>\n",
       "      <td>0.977528</td>\n",
       "      <td>0.988764</td>\n",
       "      <td>0.988764</td>\n",
       "    </tr>\n",
       "    <tr>\n",
       "      <th>split2_train_score</th>\n",
       "      <td>0.366667</td>\n",
       "      <td>0.366667</td>\n",
       "      <td>0.366667</td>\n",
       "      <td>0.366667</td>\n",
       "      <td>0.366667</td>\n",
       "      <td>0.366667</td>\n",
       "      <td>0.366667</td>\n",
       "      <td>0.366667</td>\n",
       "      <td>0.366667</td>\n",
       "      <td>0.366667</td>\n",
       "      <td>...</td>\n",
       "      <td>0.977778</td>\n",
       "      <td>1.0</td>\n",
       "      <td>1.0</td>\n",
       "      <td>1.0</td>\n",
       "      <td>0.366667</td>\n",
       "      <td>0.844444</td>\n",
       "      <td>0.944444</td>\n",
       "      <td>0.977778</td>\n",
       "      <td>0.977778</td>\n",
       "      <td>0.988889</td>\n",
       "    </tr>\n",
       "    <tr>\n",
       "      <th>split3_train_score</th>\n",
       "      <td>0.366667</td>\n",
       "      <td>0.366667</td>\n",
       "      <td>0.366667</td>\n",
       "      <td>0.366667</td>\n",
       "      <td>0.366667</td>\n",
       "      <td>0.366667</td>\n",
       "      <td>0.366667</td>\n",
       "      <td>0.366667</td>\n",
       "      <td>0.366667</td>\n",
       "      <td>0.366667</td>\n",
       "      <td>...</td>\n",
       "      <td>1.0</td>\n",
       "      <td>1.0</td>\n",
       "      <td>1.0</td>\n",
       "      <td>1.0</td>\n",
       "      <td>0.366667</td>\n",
       "      <td>0.766667</td>\n",
       "      <td>0.966667</td>\n",
       "      <td>0.988889</td>\n",
       "      <td>0.988889</td>\n",
       "      <td>1.0</td>\n",
       "    </tr>\n",
       "    <tr>\n",
       "      <th>split4_train_score</th>\n",
       "      <td>0.355556</td>\n",
       "      <td>0.355556</td>\n",
       "      <td>0.355556</td>\n",
       "      <td>0.355556</td>\n",
       "      <td>0.355556</td>\n",
       "      <td>0.355556</td>\n",
       "      <td>0.355556</td>\n",
       "      <td>0.355556</td>\n",
       "      <td>0.355556</td>\n",
       "      <td>0.355556</td>\n",
       "      <td>...</td>\n",
       "      <td>1.0</td>\n",
       "      <td>1.0</td>\n",
       "      <td>1.0</td>\n",
       "      <td>1.0</td>\n",
       "      <td>0.355556</td>\n",
       "      <td>0.877778</td>\n",
       "      <td>0.966667</td>\n",
       "      <td>0.988889</td>\n",
       "      <td>1.0</td>\n",
       "      <td>1.0</td>\n",
       "    </tr>\n",
       "    <tr>\n",
       "      <th>mean_train_score</th>\n",
       "      <td>0.366092</td>\n",
       "      <td>0.366092</td>\n",
       "      <td>0.366092</td>\n",
       "      <td>0.366092</td>\n",
       "      <td>0.366092</td>\n",
       "      <td>0.366092</td>\n",
       "      <td>0.366092</td>\n",
       "      <td>0.366092</td>\n",
       "      <td>0.366092</td>\n",
       "      <td>0.366092</td>\n",
       "      <td>...</td>\n",
       "      <td>0.991061</td>\n",
       "      <td>1.0</td>\n",
       "      <td>1.0</td>\n",
       "      <td>1.0</td>\n",
       "      <td>0.366092</td>\n",
       "      <td>0.850587</td>\n",
       "      <td>0.962072</td>\n",
       "      <td>0.98437</td>\n",
       "      <td>0.988839</td>\n",
       "      <td>0.991036</td>\n",
       "    </tr>\n",
       "    <tr>\n",
       "      <th>std_train_score</th>\n",
       "      <td>0.005581</td>\n",
       "      <td>0.005581</td>\n",
       "      <td>0.005581</td>\n",
       "      <td>0.005581</td>\n",
       "      <td>0.005581</td>\n",
       "      <td>0.005581</td>\n",
       "      <td>0.005581</td>\n",
       "      <td>0.005581</td>\n",
       "      <td>0.005581</td>\n",
       "      <td>0.005581</td>\n",
       "      <td>...</td>\n",
       "      <td>0.008328</td>\n",
       "      <td>0.0</td>\n",
       "      <td>0.0</td>\n",
       "      <td>0.0</td>\n",
       "      <td>0.005581</td>\n",
       "      <td>0.047695</td>\n",
       "      <td>0.008816</td>\n",
       "      <td>0.005485</td>\n",
       "      <td>0.007028</td>\n",
       "      <td>0.008402</td>\n",
       "    </tr>\n",
       "  </tbody>\n",
       "</table>\n",
       "<p>23 rows × 42 columns</p>\n",
       "</div>"
      ],
      "text/plain": [
       "                                                               0   \\\n",
       "mean_fit_time                                            0.001768   \n",
       "std_fit_time                                             0.000863   \n",
       "mean_score_time                                          0.000745   \n",
       "std_score_time                                           0.000344   \n",
       "param_C                                                     0.001   \n",
       "param_gamma                                                 0.001   \n",
       "param_kernel                                                  rbf   \n",
       "params              {'C': 0.001, 'gamma': 0.001, 'kernel': 'rbf'}   \n",
       "split0_test_score                                        0.347826   \n",
       "split1_test_score                                        0.347826   \n",
       "split2_test_score                                        0.363636   \n",
       "split3_test_score                                        0.363636   \n",
       "split4_test_score                                        0.409091   \n",
       "mean_test_score                                          0.366403   \n",
       "std_test_score                                           0.022485   \n",
       "rank_test_score                                                27   \n",
       "split0_train_score                                       0.370787   \n",
       "split1_train_score                                       0.370787   \n",
       "split2_train_score                                       0.366667   \n",
       "split3_train_score                                       0.366667   \n",
       "split4_train_score                                       0.355556   \n",
       "mean_train_score                                         0.366092   \n",
       "std_train_score                                          0.005581   \n",
       "\n",
       "                                                              1   \\\n",
       "mean_fit_time                                           0.000782   \n",
       "std_fit_time                                            0.000023   \n",
       "mean_score_time                                         0.000327   \n",
       "std_score_time                                          0.000012   \n",
       "param_C                                                    0.001   \n",
       "param_gamma                                                 0.01   \n",
       "param_kernel                                                 rbf   \n",
       "params              {'C': 0.001, 'gamma': 0.01, 'kernel': 'rbf'}   \n",
       "split0_test_score                                       0.347826   \n",
       "split1_test_score                                       0.347826   \n",
       "split2_test_score                                       0.363636   \n",
       "split3_test_score                                       0.363636   \n",
       "split4_test_score                                       0.409091   \n",
       "mean_test_score                                         0.366403   \n",
       "std_test_score                                          0.022485   \n",
       "rank_test_score                                               27   \n",
       "split0_train_score                                      0.370787   \n",
       "split1_train_score                                      0.370787   \n",
       "split2_train_score                                      0.366667   \n",
       "split3_train_score                                      0.366667   \n",
       "split4_train_score                                      0.355556   \n",
       "mean_train_score                                        0.366092   \n",
       "std_train_score                                         0.005581   \n",
       "\n",
       "                                                             2   \\\n",
       "mean_fit_time                                          0.000777   \n",
       "std_fit_time                                           0.000004   \n",
       "mean_score_time                                        0.000325   \n",
       "std_score_time                                         0.000006   \n",
       "param_C                                                   0.001   \n",
       "param_gamma                                                 0.1   \n",
       "param_kernel                                                rbf   \n",
       "params              {'C': 0.001, 'gamma': 0.1, 'kernel': 'rbf'}   \n",
       "split0_test_score                                      0.347826   \n",
       "split1_test_score                                      0.347826   \n",
       "split2_test_score                                      0.363636   \n",
       "split3_test_score                                      0.363636   \n",
       "split4_test_score                                      0.409091   \n",
       "mean_test_score                                        0.366403   \n",
       "std_test_score                                         0.022485   \n",
       "rank_test_score                                              27   \n",
       "split0_train_score                                     0.370787   \n",
       "split1_train_score                                     0.370787   \n",
       "split2_train_score                                     0.366667   \n",
       "split3_train_score                                     0.366667   \n",
       "split4_train_score                                     0.355556   \n",
       "mean_train_score                                       0.366092   \n",
       "std_train_score                                        0.005581   \n",
       "\n",
       "                                                           3   \\\n",
       "mean_fit_time                                        0.000818   \n",
       "std_fit_time                                          0.00003   \n",
       "mean_score_time                                      0.000339   \n",
       "std_score_time                                       0.000025   \n",
       "param_C                                                 0.001   \n",
       "param_gamma                                                 1   \n",
       "param_kernel                                              rbf   \n",
       "params              {'C': 0.001, 'gamma': 1, 'kernel': 'rbf'}   \n",
       "split0_test_score                                    0.347826   \n",
       "split1_test_score                                    0.347826   \n",
       "split2_test_score                                    0.363636   \n",
       "split3_test_score                                    0.363636   \n",
       "split4_test_score                                    0.409091   \n",
       "mean_test_score                                      0.366403   \n",
       "std_test_score                                       0.022485   \n",
       "rank_test_score                                            27   \n",
       "split0_train_score                                   0.370787   \n",
       "split1_train_score                                   0.370787   \n",
       "split2_train_score                                   0.366667   \n",
       "split3_train_score                                   0.366667   \n",
       "split4_train_score                                   0.355556   \n",
       "mean_train_score                                     0.366092   \n",
       "std_train_score                                      0.005581   \n",
       "\n",
       "                                                            4   \\\n",
       "mean_fit_time                                         0.000771   \n",
       "std_fit_time                                          0.000006   \n",
       "mean_score_time                                        0.00032   \n",
       "std_score_time                                        0.000003   \n",
       "param_C                                                  0.001   \n",
       "param_gamma                                                 10   \n",
       "param_kernel                                               rbf   \n",
       "params              {'C': 0.001, 'gamma': 10, 'kernel': 'rbf'}   \n",
       "split0_test_score                                     0.347826   \n",
       "split1_test_score                                     0.347826   \n",
       "split2_test_score                                     0.363636   \n",
       "split3_test_score                                     0.363636   \n",
       "split4_test_score                                     0.409091   \n",
       "mean_test_score                                       0.366403   \n",
       "std_test_score                                        0.022485   \n",
       "rank_test_score                                             27   \n",
       "split0_train_score                                    0.370787   \n",
       "split1_train_score                                    0.370787   \n",
       "split2_train_score                                    0.366667   \n",
       "split3_train_score                                    0.366667   \n",
       "split4_train_score                                    0.355556   \n",
       "mean_train_score                                      0.366092   \n",
       "std_train_score                                       0.005581   \n",
       "\n",
       "                                                             5   \\\n",
       "mean_fit_time                                           0.00072   \n",
       "std_fit_time                                           0.000013   \n",
       "mean_score_time                                        0.000316   \n",
       "std_score_time                                         0.000007   \n",
       "param_C                                                   0.001   \n",
       "param_gamma                                                 100   \n",
       "param_kernel                                                rbf   \n",
       "params              {'C': 0.001, 'gamma': 100, 'kernel': 'rbf'}   \n",
       "split0_test_score                                      0.347826   \n",
       "split1_test_score                                      0.347826   \n",
       "split2_test_score                                      0.363636   \n",
       "split3_test_score                                      0.363636   \n",
       "split4_test_score                                      0.409091   \n",
       "mean_test_score                                        0.366403   \n",
       "std_test_score                                         0.022485   \n",
       "rank_test_score                                              27   \n",
       "split0_train_score                                     0.370787   \n",
       "split1_train_score                                     0.370787   \n",
       "split2_train_score                                     0.366667   \n",
       "split3_train_score                                     0.366667   \n",
       "split4_train_score                                     0.355556   \n",
       "mean_train_score                                       0.366092   \n",
       "std_train_score                                        0.005581   \n",
       "\n",
       "                                                              6   \\\n",
       "mean_fit_time                                           0.000781   \n",
       "std_fit_time                                            0.000015   \n",
       "mean_score_time                                         0.000328   \n",
       "std_score_time                                          0.000006   \n",
       "param_C                                                     0.01   \n",
       "param_gamma                                                0.001   \n",
       "param_kernel                                                 rbf   \n",
       "params              {'C': 0.01, 'gamma': 0.001, 'kernel': 'rbf'}   \n",
       "split0_test_score                                       0.347826   \n",
       "split1_test_score                                       0.347826   \n",
       "split2_test_score                                       0.363636   \n",
       "split3_test_score                                       0.363636   \n",
       "split4_test_score                                       0.409091   \n",
       "mean_test_score                                         0.366403   \n",
       "std_test_score                                          0.022485   \n",
       "rank_test_score                                               27   \n",
       "split0_train_score                                      0.370787   \n",
       "split1_train_score                                      0.370787   \n",
       "split2_train_score                                      0.366667   \n",
       "split3_train_score                                      0.366667   \n",
       "split4_train_score                                      0.355556   \n",
       "mean_train_score                                        0.366092   \n",
       "std_train_score                                         0.005581   \n",
       "\n",
       "                                                             7   \\\n",
       "mean_fit_time                                          0.000755   \n",
       "std_fit_time                                           0.000009   \n",
       "mean_score_time                                        0.000318   \n",
       "std_score_time                                         0.000003   \n",
       "param_C                                                    0.01   \n",
       "param_gamma                                                0.01   \n",
       "param_kernel                                                rbf   \n",
       "params              {'C': 0.01, 'gamma': 0.01, 'kernel': 'rbf'}   \n",
       "split0_test_score                                      0.347826   \n",
       "split1_test_score                                      0.347826   \n",
       "split2_test_score                                      0.363636   \n",
       "split3_test_score                                      0.363636   \n",
       "split4_test_score                                      0.409091   \n",
       "mean_test_score                                        0.366403   \n",
       "std_test_score                                         0.022485   \n",
       "rank_test_score                                              27   \n",
       "split0_train_score                                     0.370787   \n",
       "split1_train_score                                     0.370787   \n",
       "split2_train_score                                     0.366667   \n",
       "split3_train_score                                     0.366667   \n",
       "split4_train_score                                     0.355556   \n",
       "mean_train_score                                       0.366092   \n",
       "std_train_score                                        0.005581   \n",
       "\n",
       "                                                            8   \\\n",
       "mean_fit_time                                         0.000773   \n",
       "std_fit_time                                           0.00001   \n",
       "mean_score_time                                       0.000323   \n",
       "std_score_time                                        0.000006   \n",
       "param_C                                                   0.01   \n",
       "param_gamma                                                0.1   \n",
       "param_kernel                                               rbf   \n",
       "params              {'C': 0.01, 'gamma': 0.1, 'kernel': 'rbf'}   \n",
       "split0_test_score                                     0.347826   \n",
       "split1_test_score                                     0.347826   \n",
       "split2_test_score                                     0.363636   \n",
       "split3_test_score                                     0.363636   \n",
       "split4_test_score                                     0.409091   \n",
       "mean_test_score                                       0.366403   \n",
       "std_test_score                                        0.022485   \n",
       "rank_test_score                                             27   \n",
       "split0_train_score                                    0.370787   \n",
       "split1_train_score                                    0.370787   \n",
       "split2_train_score                                    0.366667   \n",
       "split3_train_score                                    0.366667   \n",
       "split4_train_score                                    0.355556   \n",
       "mean_train_score                                      0.366092   \n",
       "std_train_score                                       0.005581   \n",
       "\n",
       "                                                          9   ...  \\\n",
       "mean_fit_time                                       0.000767  ...   \n",
       "std_fit_time                                         0.00001  ...   \n",
       "mean_score_time                                     0.000321  ...   \n",
       "std_score_time                                      0.000002  ...   \n",
       "param_C                                                 0.01  ...   \n",
       "param_gamma                                                1  ...   \n",
       "param_kernel                                             rbf  ...   \n",
       "params              {'C': 0.01, 'gamma': 1, 'kernel': 'rbf'}  ...   \n",
       "split0_test_score                                   0.347826  ...   \n",
       "split1_test_score                                   0.347826  ...   \n",
       "split2_test_score                                   0.363636  ...   \n",
       "split3_test_score                                   0.363636  ...   \n",
       "split4_test_score                                   0.409091  ...   \n",
       "mean_test_score                                     0.366403  ...   \n",
       "std_test_score                                      0.022485  ...   \n",
       "rank_test_score                                           27  ...   \n",
       "split0_train_score                                  0.370787  ...   \n",
       "split1_train_score                                  0.370787  ...   \n",
       "split2_train_score                                  0.366667  ...   \n",
       "split3_train_score                                  0.366667  ...   \n",
       "split4_train_score                                  0.355556  ...   \n",
       "mean_train_score                                    0.366092  ...   \n",
       "std_train_score                                     0.005581  ...   \n",
       "\n",
       "                                                           32  \\\n",
       "mean_fit_time                                        0.000298   \n",
       "std_fit_time                                         0.000009   \n",
       "mean_score_time                                      0.000165   \n",
       "std_score_time                                       0.000002   \n",
       "param_C                                                   100   \n",
       "param_gamma                                               0.1   \n",
       "param_kernel                                              rbf   \n",
       "params              {'C': 100, 'gamma': 0.1, 'kernel': 'rbf'}   \n",
       "split0_test_score                                         1.0   \n",
       "split1_test_score                                    0.956522   \n",
       "split2_test_score                                         1.0   \n",
       "split3_test_score                                    0.863636   \n",
       "split4_test_score                                    0.954545   \n",
       "mean_test_score                                      0.954941   \n",
       "std_test_score                                       0.049799   \n",
       "rank_test_score                                            11   \n",
       "split0_train_score                                   0.988764   \n",
       "split1_train_score                                   0.988764   \n",
       "split2_train_score                                   0.977778   \n",
       "split3_train_score                                        1.0   \n",
       "split4_train_score                                        1.0   \n",
       "mean_train_score                                     0.991061   \n",
       "std_train_score                                      0.008328   \n",
       "\n",
       "                                                         33  \\\n",
       "mean_fit_time                                      0.000445   \n",
       "std_fit_time                                       0.000009   \n",
       "mean_score_time                                    0.000201   \n",
       "std_score_time                                     0.000004   \n",
       "param_C                                                 100   \n",
       "param_gamma                                               1   \n",
       "param_kernel                                            rbf   \n",
       "params              {'C': 100, 'gamma': 1, 'kernel': 'rbf'}   \n",
       "split0_test_score                                  0.956522   \n",
       "split1_test_score                                  0.956522   \n",
       "split2_test_score                                       1.0   \n",
       "split3_test_score                                  0.863636   \n",
       "split4_test_score                                  0.954545   \n",
       "mean_test_score                                    0.946245   \n",
       "std_test_score                                     0.044708   \n",
       "rank_test_score                                          13   \n",
       "split0_train_score                                      1.0   \n",
       "split1_train_score                                      1.0   \n",
       "split2_train_score                                      1.0   \n",
       "split3_train_score                                      1.0   \n",
       "split4_train_score                                      1.0   \n",
       "mean_train_score                                        1.0   \n",
       "std_train_score                                         0.0   \n",
       "\n",
       "                                                          34  \\\n",
       "mean_fit_time                                       0.000859   \n",
       "std_fit_time                                        0.000015   \n",
       "mean_score_time                                     0.000293   \n",
       "std_score_time                                      0.000005   \n",
       "param_C                                                  100   \n",
       "param_gamma                                               10   \n",
       "param_kernel                                             rbf   \n",
       "params              {'C': 100, 'gamma': 10, 'kernel': 'rbf'}   \n",
       "split0_test_score                                   0.869565   \n",
       "split1_test_score                                   0.913043   \n",
       "split2_test_score                                        1.0   \n",
       "split3_test_score                                   0.818182   \n",
       "split4_test_score                                   0.954545   \n",
       "mean_test_score                                     0.911067   \n",
       "std_test_score                                      0.063488   \n",
       "rank_test_score                                           18   \n",
       "split0_train_score                                       1.0   \n",
       "split1_train_score                                       1.0   \n",
       "split2_train_score                                       1.0   \n",
       "split3_train_score                                       1.0   \n",
       "split4_train_score                                       1.0   \n",
       "mean_train_score                                         1.0   \n",
       "std_train_score                                          0.0   \n",
       "\n",
       "                                                           35  \\\n",
       "mean_fit_time                                        0.000842   \n",
       "std_fit_time                                         0.000012   \n",
       "mean_score_time                                      0.000318   \n",
       "std_score_time                                       0.000004   \n",
       "param_C                                                   100   \n",
       "param_gamma                                               100   \n",
       "param_kernel                                              rbf   \n",
       "params              {'C': 100, 'gamma': 100, 'kernel': 'rbf'}   \n",
       "split0_test_score                                    0.521739   \n",
       "split1_test_score                                    0.521739   \n",
       "split2_test_score                                    0.590909   \n",
       "split3_test_score                                    0.590909   \n",
       "split4_test_score                                    0.681818   \n",
       "mean_test_score                                      0.581423   \n",
       "std_test_score                                       0.058964   \n",
       "rank_test_score                                            24   \n",
       "split0_train_score                                        1.0   \n",
       "split1_train_score                                        1.0   \n",
       "split2_train_score                                        1.0   \n",
       "split3_train_score                                        1.0   \n",
       "split4_train_score                                        1.0   \n",
       "mean_train_score                                          1.0   \n",
       "std_train_score                                           0.0   \n",
       "\n",
       "                                                  36  \\\n",
       "mean_fit_time                               0.000542   \n",
       "std_fit_time                                0.000012   \n",
       "mean_score_time                              0.00018   \n",
       "std_score_time                              0.000001   \n",
       "param_C                                        0.001   \n",
       "param_gamma                                      NaN   \n",
       "param_kernel                                  linear   \n",
       "params              {'C': 0.001, 'kernel': 'linear'}   \n",
       "split0_test_score                           0.347826   \n",
       "split1_test_score                           0.347826   \n",
       "split2_test_score                           0.363636   \n",
       "split3_test_score                           0.363636   \n",
       "split4_test_score                           0.409091   \n",
       "mean_test_score                             0.366403   \n",
       "std_test_score                              0.022485   \n",
       "rank_test_score                                   27   \n",
       "split0_train_score                          0.370787   \n",
       "split1_train_score                          0.370787   \n",
       "split2_train_score                          0.366667   \n",
       "split3_train_score                          0.366667   \n",
       "split4_train_score                          0.355556   \n",
       "mean_train_score                            0.366092   \n",
       "std_train_score                             0.005581   \n",
       "\n",
       "                                                 37  \\\n",
       "mean_fit_time                              0.000448   \n",
       "std_fit_time                               0.000002   \n",
       "mean_score_time                            0.000175   \n",
       "std_score_time                             0.000001   \n",
       "param_C                                        0.01   \n",
       "param_gamma                                     NaN   \n",
       "param_kernel                                 linear   \n",
       "params              {'C': 0.01, 'kernel': 'linear'}   \n",
       "split0_test_score                          0.869565   \n",
       "split1_test_score                          0.869565   \n",
       "split2_test_score                          0.772727   \n",
       "split3_test_score                          0.772727   \n",
       "split4_test_score                          0.909091   \n",
       "mean_test_score                            0.838735   \n",
       "std_test_score                             0.055794   \n",
       "rank_test_score                                  21   \n",
       "split0_train_score                         0.853933   \n",
       "split1_train_score                         0.910112   \n",
       "split2_train_score                         0.844444   \n",
       "split3_train_score                         0.766667   \n",
       "split4_train_score                         0.877778   \n",
       "mean_train_score                           0.850587   \n",
       "std_train_score                            0.047695   \n",
       "\n",
       "                                                38  \\\n",
       "mean_fit_time                             0.000326   \n",
       "std_fit_time                              0.000003   \n",
       "mean_score_time                           0.000157   \n",
       "std_score_time                            0.000001   \n",
       "param_C                                        0.1   \n",
       "param_gamma                                    NaN   \n",
       "param_kernel                                linear   \n",
       "params              {'C': 0.1, 'kernel': 'linear'}   \n",
       "split0_test_score                              1.0   \n",
       "split1_test_score                         0.913043   \n",
       "split2_test_score                              1.0   \n",
       "split3_test_score                         0.909091   \n",
       "split4_test_score                         0.954545   \n",
       "mean_test_score                           0.955336   \n",
       "std_test_score                            0.039794   \n",
       "rank_test_score                                  8   \n",
       "split0_train_score                        0.966292   \n",
       "split1_train_score                        0.966292   \n",
       "split2_train_score                        0.944444   \n",
       "split3_train_score                        0.966667   \n",
       "split4_train_score                        0.966667   \n",
       "mean_train_score                          0.962072   \n",
       "std_train_score                           0.008816   \n",
       "\n",
       "                                              39  \\\n",
       "mean_fit_time                           0.000286   \n",
       "std_fit_time                            0.000008   \n",
       "mean_score_time                         0.000143   \n",
       "std_score_time                          0.000001   \n",
       "param_C                                        1   \n",
       "param_gamma                                  NaN   \n",
       "param_kernel                              linear   \n",
       "params              {'C': 1, 'kernel': 'linear'}   \n",
       "split0_test_score                            1.0   \n",
       "split1_test_score                       0.956522   \n",
       "split2_test_score                            1.0   \n",
       "split3_test_score                       0.954545   \n",
       "split4_test_score                       0.954545   \n",
       "mean_test_score                         0.973123   \n",
       "std_test_score                          0.021957   \n",
       "rank_test_score                                1   \n",
       "split0_train_score                      0.988764   \n",
       "split1_train_score                      0.977528   \n",
       "split2_train_score                      0.977778   \n",
       "split3_train_score                      0.988889   \n",
       "split4_train_score                      0.988889   \n",
       "mean_train_score                         0.98437   \n",
       "std_train_score                         0.005485   \n",
       "\n",
       "                                               40  \\\n",
       "mean_fit_time                            0.000282   \n",
       "std_fit_time                              0.00001   \n",
       "mean_score_time                           0.00014   \n",
       "std_score_time                           0.000001   \n",
       "param_C                                        10   \n",
       "param_gamma                                   NaN   \n",
       "param_kernel                               linear   \n",
       "params              {'C': 10, 'kernel': 'linear'}   \n",
       "split0_test_score                             1.0   \n",
       "split1_test_score                             1.0   \n",
       "split2_test_score                             1.0   \n",
       "split3_test_score                        0.909091   \n",
       "split4_test_score                        0.954545   \n",
       "mean_test_score                          0.972727   \n",
       "std_test_score                           0.036364   \n",
       "rank_test_score                                 3   \n",
       "split0_train_score                       0.988764   \n",
       "split1_train_score                       0.988764   \n",
       "split2_train_score                       0.977778   \n",
       "split3_train_score                       0.988889   \n",
       "split4_train_score                            1.0   \n",
       "mean_train_score                         0.988839   \n",
       "std_train_score                          0.007028   \n",
       "\n",
       "                                                41  \n",
       "mean_fit_time                             0.000288  \n",
       "std_fit_time                              0.000022  \n",
       "mean_score_time                           0.000139  \n",
       "std_score_time                            0.000001  \n",
       "param_C                                        100  \n",
       "param_gamma                                    NaN  \n",
       "param_kernel                                linear  \n",
       "params              {'C': 100, 'kernel': 'linear'}  \n",
       "split0_test_score                         0.956522  \n",
       "split1_test_score                         0.956522  \n",
       "split2_test_score                              1.0  \n",
       "split3_test_score                         0.909091  \n",
       "split4_test_score                         0.954545  \n",
       "mean_test_score                           0.955336  \n",
       "std_test_score                            0.028764  \n",
       "rank_test_score                                  8  \n",
       "split0_train_score                        0.977528  \n",
       "split1_train_score                        0.988764  \n",
       "split2_train_score                        0.988889  \n",
       "split3_train_score                             1.0  \n",
       "split4_train_score                             1.0  \n",
       "mean_train_score                          0.991036  \n",
       "std_train_score                           0.008402  \n",
       "\n",
       "[23 rows x 42 columns]"
      ]
     },
     "metadata": {},
     "output_type": "display_data"
    }
   ],
   "source": [
    "results = pd.DataFrame(grid_search.cv_results_)\n",
    "# we display the transposed table so that it better fits on the page:\n",
    "display(results.T)"
   ]
  },
  {
   "cell_type": "markdown",
   "metadata": {},
   "source": [
    "#### Nested cross-validation"
   ]
  },
  {
   "cell_type": "code",
   "execution_count": 35,
   "metadata": {},
   "outputs": [
    {
     "name": "stdout",
     "output_type": "stream",
     "text": [
      "Cross-validation scores:  [0.96666667 1.         0.96666667 0.96666667 1.        ]\n",
      "Mean cross-validation score:  0.9800000000000001\n"
     ]
    }
   ],
   "source": [
    "param_grid = {'C': [0.001, 0.01, 0.1, 1, 10, 100],\n",
    "              'gamma': [0.001, 0.01, 0.1, 1, 10, 100]}\n",
    "scores = cross_val_score(GridSearchCV(SVC(), param_grid, cv=5),\n",
    "                         iris.data, iris.target, cv=5)\n",
    "print(\"Cross-validation scores: \", scores)\n",
    "print(\"Mean cross-validation score: \", scores.mean())"
   ]
  },
  {
   "cell_type": "code",
   "execution_count": 36,
   "metadata": {},
   "outputs": [],
   "source": [
    "def nested_cv(X, y, inner_cv, outer_cv, Classifier, parameter_grid):\n",
    "    outer_scores = []\n",
    "    # for each split of the data in the outer cross-validation\n",
    "    # (split method returns indices of training and test parts)\n",
    "    for training_samples, test_samples in outer_cv.split(X, y):\n",
    "        # find best parameter using inner cross-validation\n",
    "        best_parms = {}\n",
    "        best_score = -np.inf\n",
    "        # iterate over parameters\n",
    "        for parameters in parameter_grid:\n",
    "            # accumulate score over inner splits\n",
    "            cv_scores = []\n",
    "            # iterate over inner cross-validation\n",
    "            for inner_train, inner_test in inner_cv.split(\n",
    "                    X[training_samples], y[training_samples]):\n",
    "                # build classifier given parameters and training data\n",
    "                clf = Classifier(**parameters)\n",
    "                clf.fit(X[inner_train], y[inner_train])\n",
    "                # evaluate on inner test set\n",
    "                score = clf.score(X[inner_test], y[inner_test])\n",
    "                cv_scores.append(score)\n",
    "            # compute mean score over inner folds\n",
    "            mean_score = np.mean(cv_scores)\n",
    "            if mean_score > best_score:\n",
    "                # if better than so far, remember parameters\n",
    "                best_score = mean_score\n",
    "                best_params = parameters\n",
    "        # build classifier on best parameters using outer training set\n",
    "        clf = Classifier(**best_params)\n",
    "        clf.fit(X[training_samples], y[training_samples])\n",
    "        # evaluate\n",
    "        outer_scores.append(clf.score(X[test_samples], y[test_samples]))\n",
    "    return np.array(outer_scores)"
   ]
  },
  {
   "cell_type": "code",
   "execution_count": 37,
   "metadata": {
    "hide_input": false
   },
   "outputs": [
    {
     "name": "stdout",
     "output_type": "stream",
     "text": [
      "Cross-validation scores: [0.96666667 1.         0.96666667 0.96666667 1.        ]\n"
     ]
    }
   ],
   "source": [
    "from sklearn.model_selection import ParameterGrid, StratifiedKFold\n",
    "scores = nested_cv(iris.data, iris.target, StratifiedKFold(5),\n",
    "                   StratifiedKFold(5), SVC, ParameterGrid(param_grid))\n",
    "print(\"Cross-validation scores: {}\".format(scores))"
   ]
  },
  {
   "cell_type": "markdown",
   "metadata": {},
   "source": [
    "### Evaluation Metrics and Scoring\n",
    "\n",
    "Below we consider different means of assessing a model's performance. We consider the following model:\n",
    "\n",
    "1. Dummy Classifier\n",
    "2. Decision Tree Classifier\n",
    "3. Logistic Regression\n",
    "\n",
    "For more information on a Dummy Classifier refer to: https://www.geeksforgeeks.org/ml-dummy-classifiers-using-sklearn/"
   ]
  },
  {
   "cell_type": "code",
   "execution_count": 38,
   "metadata": {},
   "outputs": [
    {
     "name": "stdout",
     "output_type": "stream",
     "text": [
      "Dummy Score: 0.90\n",
      "Logreg Score: 0.98\n"
     ]
    }
   ],
   "source": [
    "from sklearn.datasets import load_digits\n",
    "from sklearn.dummy import DummyClassifier\n",
    "from sklearn.tree import DecisionTreeClassifier\n",
    "from sklearn.linear_model import LogisticRegression\n",
    "\n",
    "digits = load_digits()\n",
    "y = digits.target == 9\n",
    "\n",
    "X_train, X_test, y_train, y_test = train_test_split(digits.data, y, random_state=0)\n",
    "\n",
    "dummy_majority = DummyClassifier(strategy='most_frequent').fit(X_train, y_train)\n",
    "pred_most_frequent = dummy_majority.predict(X_test)\n",
    "\n",
    "tree = DecisionTreeClassifier(max_depth=2).fit(X_train, y_train)\n",
    "pred_tree = tree.predict(X_test)\n",
    "\n",
    "dummy = DummyClassifier().fit(X_train, y_train)\n",
    "pred_dummy = dummy.predict(X_test)\n",
    "print(\"Dummy Score: {:.2f}\".format(dummy.score(X_test, y_test)))\n",
    "\n",
    "logreg = LogisticRegression(C=0.1).fit(X_train, y_train)\n",
    "pred_logreg = logreg.predict(X_test)\n",
    "print(\"Logreg Score: {:.2f}\".format(logreg.score(X_test, y_test)))"
   ]
  },
  {
   "cell_type": "markdown",
   "metadata": {},
   "source": [
    "##### Confusion matrices\n",
    "\n",
    "When performing classification tasks with three or more labels, it can be informative to subdivide the errors made by the model based on which types of mistake it made."
   ]
  },
  {
   "cell_type": "code",
   "execution_count": 39,
   "metadata": {},
   "outputs": [
    {
     "data": {
      "image/png": "[encoded data removed]",
      "text/plain": [
       "<Figure size 432x288 with 1 Axes>"
      ]
     },
     "metadata": {
      "needs_background": "light"
     },
     "output_type": "display_data"
    }
   ],
   "source": [
    "mglearn.plots.plot_binary_confusion_matrix()"
   ]
  },
  {
   "cell_type": "code",
   "execution_count": 40,
   "metadata": {},
   "outputs": [
    {
     "name": "stdout",
     "output_type": "stream",
     "text": [
      "Confusion matrix:\n",
      "[[402   1]\n",
      " [  6  41]]\n"
     ]
    }
   ],
   "source": [
    "from sklearn.metrics import confusion_matrix\n",
    "\n",
    "confusion = confusion_matrix(y_test, pred_logreg)\n",
    "print(\"Confusion matrix:\\n{}\".format(confusion))"
   ]
  },
  {
   "cell_type": "code",
   "execution_count": 41,
   "metadata": {},
   "outputs": [
    {
     "data": {
      "image/png": "[encoded data removed]",
      "text/plain": [
       "<Figure size 576x576 with 1 Axes>"
      ]
     },
     "metadata": {
      "needs_background": "light"
     },
     "output_type": "display_data"
    }
   ],
   "source": [
    "mglearn.plots.plot_confusion_matrix_illustration()"
   ]
  },
  {
   "cell_type": "code",
   "execution_count": 42,
   "metadata": {},
   "outputs": [
    {
     "name": "stdout",
     "output_type": "stream",
     "text": [
      "Most frequent class:\n",
      "[[403   0]\n",
      " [ 47   0]]\n",
      "\n",
      "Dummy model:\n",
      "[[403   0]\n",
      " [ 47   0]]\n",
      "\n",
      "Decision tree:\n",
      "[[390  13]\n",
      " [ 24  23]]\n",
      "\n",
      "Logistic Regression\n",
      "[[402   1]\n",
      " [  6  41]]\n"
     ]
    }
   ],
   "source": [
    "print(\"Most frequent class:\")\n",
    "print(confusion_matrix(y_test, pred_most_frequent))\n",
    "print(\"\\nDummy model:\")\n",
    "print(confusion_matrix(y_test, pred_dummy))\n",
    "print(\"\\nDecision tree:\")\n",
    "print(confusion_matrix(y_test, pred_tree))\n",
    "print(\"\\nLogistic Regression\")\n",
    "print(confusion_matrix(y_test, pred_logreg))"
   ]
  },
  {
   "cell_type": "markdown",
   "metadata": {},
   "source": [
    "There are various ways in which we can assess a model's performance. Below are a few well known methods:\n",
    "\n",
    "###### Relation to accuracy\n",
    "\\begin{equation}\n",
    "\\text{Accuracy} = \\frac{\\text{TP} + \\text{TN}}{\\text{TP} + \\text{TN} + \\text{FP} + \\text{FN}}\n",
    "\\end{equation}\n",
    "\n",
    "##### Precision, recall and f-score\n",
    "\\begin{equation}\n",
    "\\text{Precision} = \\frac{\\text{TP}}{\\text{TP} + \\text{FP}}\n",
    "\\end{equation}\n",
    "\n",
    "\\begin{equation}\n",
    "\\text{Recall} = \\frac{\\text{TP}}{\\text{TP} + \\text{FN}}\n",
    "\\end{equation}\n",
    "\\begin{equation}\n",
    "\\text{F} = 2 \\cdot \\frac{\\text{precision} \\cdot \\text{recall}}{\\text{precision} + \\text{recall}}\n",
    "\\end{equation}"
   ]
  },
  {
   "cell_type": "code",
   "execution_count": 43,
   "metadata": {},
   "outputs": [
    {
     "name": "stdout",
     "output_type": "stream",
     "text": [
      "              precision    recall  f1-score   support\n",
      "\n",
      "    not nine       0.90      1.00      0.94       403\n",
      "        nine       0.00      0.00      0.00        47\n",
      "\n",
      "    accuracy                           0.90       450\n",
      "   macro avg       0.45      0.50      0.47       450\n",
      "weighted avg       0.80      0.90      0.85       450\n",
      "\n"
     ]
    }
   ],
   "source": [
    "from sklearn.metrics import f1_score\n",
    "from sklearn.metrics import classification_report\n",
    "print(classification_report(y_test, pred_dummy,\n",
    "                            target_names=[\"not nine\", \"nine\"]))"
   ]
  },
  {
   "cell_type": "markdown",
   "metadata": {},
   "source": [
    "### Exercise\n",
    "\n",
    "> Consider different models developed above and provide the same table of scores.\n",
    "\n"
   ]
  },
  {
   "cell_type": "markdown",
   "metadata": {},
   "source": [
    "##### Decision threshold\n",
    "\n",
    "A decision threshold is a value that dichotomises the result of a quantitative test to a simple binary decision, i.e, it treats the values above or equal to a threshold as positive, and those below as negative, or vice-versa.\n",
    "\n",
    "The function ```predict_proba``` is a method of a classifier, used to output the probability of the instance being in each of the classes. The ```decision_function``` finds the distance to the separating hyperplane."
   ]
  },
  {
   "cell_type": "code",
   "execution_count": 44,
   "metadata": {},
   "outputs": [
    {
     "name": "stdout",
     "output_type": "stream",
     "text": [
      "[array([[0.8, 0.2],\n",
      "       [0.4, 0.6],\n",
      "       [0.8, 0.2],\n",
      "       [0.9, 0.1],\n",
      "       [0.4, 0.6]]), array([[0.6, 0.4],\n",
      "       [0.1, 0.9],\n",
      "       [0.2, 0.8],\n",
      "       [0.9, 0.1],\n",
      "       [0.9, 0.1]])]\n"
     ]
    }
   ],
   "source": [
    "# Below we consider the predict_prob functionality\n",
    "\n",
    "from sklearn.datasets import make_classification\n",
    "from sklearn.multioutput import MultiOutputClassifier\n",
    "from sklearn.ensemble import RandomForestClassifier\n",
    "from sklearn.utils import shuffle\n",
    "import numpy as np\n",
    "\n",
    "X, y1 = make_classification(n_samples=5, n_features=5, n_informative=2, n_classes=2, random_state=1)\n",
    "y2 = shuffle(y1, random_state=1)\n",
    "Y = np.vstack((y1, y2)).T\n",
    "\n",
    "forest = RandomForestClassifier(n_estimators=10, random_state=1)\n",
    "multi_target_forest = MultiOutputClassifier(forest, n_jobs=-1)\n",
    "multi_target_forest.fit(X, Y).predict(X)\n",
    "\n",
    "print(multi_target_forest.predict_proba(X))"
   ]
  },
  {
   "cell_type": "code",
   "execution_count": 45,
   "metadata": {},
   "outputs": [
    {
     "data": {
      "image/png": "[encoded data removed]",
      "text/plain": [
       "<Figure size 1080x576 with 6 Axes>"
      ]
     },
     "metadata": {},
     "output_type": "display_data"
    }
   ],
   "source": [
    "# Now we consider the use of a threshold\n",
    "\n",
    "mglearn.plots.plot_decision_threshold()"
   ]
  },
  {
   "cell_type": "code",
   "execution_count": 46,
   "metadata": {},
   "outputs": [
    {
     "name": "stdout",
     "output_type": "stream",
     "text": [
      "              precision    recall  f1-score   support\n",
      "\n",
      "           0       0.97      0.89      0.93       104\n",
      "           1       0.35      0.67      0.46         9\n",
      "\n",
      "    accuracy                           0.88       113\n",
      "   macro avg       0.66      0.78      0.70       113\n",
      "weighted avg       0.92      0.88      0.89       113\n",
      "\n"
     ]
    }
   ],
   "source": [
    "X, y = make_blobs(n_samples=(400, 50), cluster_std=[7.0, 2],random_state=22)\n",
    "X_train, X_test, y_train, y_test = train_test_split(X, y, random_state=0)\n",
    "svc = SVC(gamma=.05).fit(X_train, y_train)\n",
    "\n",
    "print(classification_report(y_test, svc.predict(X_test)))"
   ]
  },
  {
   "cell_type": "code",
   "execution_count": 47,
   "metadata": {},
   "outputs": [
    {
     "name": "stdout",
     "output_type": "stream",
     "text": [
      "              precision    recall  f1-score   support\n",
      "\n",
      "           0       1.00      0.82      0.90       104\n",
      "           1       0.32      1.00      0.49         9\n",
      "\n",
      "    accuracy                           0.83       113\n",
      "   macro avg       0.66      0.91      0.69       113\n",
      "weighted avg       0.95      0.83      0.87       113\n",
      "\n"
     ]
    }
   ],
   "source": [
    "y_pred_lower_threshold = svc.decision_function(X_test) > -.8\n",
    "\n",
    "print(classification_report(y_test, y_pred_lower_threshold))"
   ]
  },
  {
   "cell_type": "markdown",
   "metadata": {},
   "source": [
    "##### Precision-Recall \n",
    "\n",
    "Precision attempts to assess the proportion of positive identifications that were actually correct, and is defined as follows:\n",
    "\n",
    "\\begin{equation}\n",
    "\\text{TPR} = \\frac{\\text{TP}}{\\text{TP} + \\text{FP}}\n",
    "\\end{equation}"
   ]
  },
  {
   "cell_type": "code",
   "execution_count": 49,
   "metadata": {},
   "outputs": [
    {
     "data": {
      "image/png": "[encoded data removed]",
      "text/plain": [
       "<Figure size 432x288 with 1 Axes>"
      ]
     },
     "metadata": {
      "needs_background": "light"
     },
     "output_type": "display_data"
    }
   ],
   "source": [
    "from sklearn.metrics import precision_recall_curve\n",
    "X, y = make_blobs(n_samples=(400, 50), cluster_std=[7.0, 2], random_state=22)\n",
    "X_train, X_test, y_train, y_test = train_test_split(X, y, random_state=0)\n",
    "svc = SVC(gamma=.05).fit(X_train, y_train)\n",
    "\n",
    "precision, recall, thresholds = precision_recall_curve( y_test, svc.decision_function(X_test))\n",
    "# Use more data points for a smoother curve\n",
    "X, y = make_blobs(n_samples=(4000, 500), cluster_std=[7.0, 2], random_state=22)\n",
    "X_train, X_test, y_train, y_test = train_test_split(X, y, random_state=0)\n",
    "svc = SVC(gamma=.05).fit(X_train, y_train)\n",
    "precision, recall, thresholds = precision_recall_curve(y_test, svc.decision_function(X_test))\n",
    "# find threshold closest to zero\n",
    "close_zero = np.argmin(np.abs(thresholds))\n",
    "_=plt.plot(precision[close_zero], recall[close_zero], 'o', markersize=10,label=\"threshold zero\", fillstyle=\"none\", c='k', mew=2)\n",
    "_=plt.plot(precision, recall, label=\"precision recall curve\")\n",
    "_=plt.xlabel(\"Precision\")\n",
    "_=plt.ylabel(\"Recall\")\n",
    "_=plt.legend(loc=\"best\")\n",
    "plt.tight_layout()\n",
    "plt.show()\n"
   ]
  },
  {
   "cell_type": "code",
   "execution_count": 50,
   "metadata": {},
   "outputs": [
    {
     "data": {
      "image/png": "[encoded data removed]",
      "text/plain": [
       "<Figure size 432x288 with 1 Axes>"
      ]
     },
     "metadata": {
      "needs_background": "light"
     },
     "output_type": "display_data"
    }
   ],
   "source": [
    "from sklearn.metrics import precision_recall_curve\n",
    "from sklearn.ensemble import RandomForestClassifier\n",
    "\n",
    "X, y = make_blobs(n_samples=(4000, 500), cluster_std=[7.0, 2], random_state=22)\n",
    "X_train, X_test, y_train, y_test = train_test_split(X, y, random_state=0)\n",
    "svc = SVC(gamma=.05).fit(X_train, y_train)\n",
    "precision, recall, thresholds = precision_recall_curve(\n",
    "    y_test, svc.decision_function(X_test))\n",
    "\n",
    "\n",
    "rf = RandomForestClassifier(n_estimators=100, random_state=0, max_features=2)\n",
    "rf.fit(X_train, y_train)\n",
    "\n",
    "# Find threshold closest to zero\n",
    "close_zero = np.argmin(np.abs(thresholds))\n",
    "\n",
    "# RandomForestClassifier has predict_proba, but not decision_function\n",
    "precision_rf, recall_rf, thresholds_rf = precision_recall_curve(\n",
    "    y_test, rf.predict_proba(X_test)[:, 1])\n",
    "\n",
    "plt.plot(precision, recall, label=\"svc precision-recall\")\n",
    "\n",
    "plt.plot(precision[close_zero], recall[close_zero], 'o', markersize=10,\n",
    "         label=\"threshold zero svc\", fillstyle=\"none\", c='k', mew=2)\n",
    "\n",
    "plt.plot(precision_rf, recall_rf, label=\"rf precision-recall\")\n",
    "\n",
    "close_default_rf = np.argmin(np.abs(thresholds_rf - 0.5))\n",
    "plt.plot(precision_rf[close_default_rf], recall_rf[close_default_rf], '^', c='k',\n",
    "         markersize=10, label=\"threshold 0.5 rf\", fillstyle=\"none\", mew=2)\n",
    "plt.xlabel(\"Precision\")\n",
    "plt.ylabel(\"Recall\")\n",
    "plt.legend(loc=\"best\")\n",
    "\n",
    "plt.show()"
   ]
  },
  {
   "cell_type": "markdown",
   "metadata": {},
   "source": [
    "\n",
    "### Exercise\n",
    "\n",
    "> Provide code which gives the ```F-score```, ```ROC``` and ```average_precision_score``` for the following models: SV and Random Forest. Be sure to run this line at the top:\n",
    "\n",
    ">```from sklearn.metrics import average_precision_score```\n"
   ]
  },
  {
   "cell_type": "markdown",
   "metadata": {},
   "source": [
    "##### Receiver Operating Characteristics (ROC) and AUC\n",
    "\n",
    "An **ROC curve** (receiver operating characteristic curve) is a graph showing the performance of a classification model at all classification thresholds. This curve plots two parameters:\n",
    "\n",
    "- True Positive Rate\n",
    "- False Positive Rate\n",
    "\n",
    "True Positive Rate (TPR) equivalent to recall (defined above) and is therefore defined as follows:\n",
    "\n",
    "\\begin{equation}\n",
    "\\text{TPR} = \\frac{\\text{TP}}{\\text{TP} + \\text{FN}}\n",
    "\\end{equation}\n",
    "\n",
    "False Positive Rate (FPR) is defined as follows:\n",
    "\n",
    "\n",
    "\\begin{equation}\n",
    "\\text{FPR} = \\frac{\\text{FP}}{\\text{FP} + \\text{TN}}\n",
    "\\end{equation}\n",
    "\n",
    "**AUC** stands for \"Area under the ROC Curve\", and measures the entire two-dimensional area underneath the entire ROC curve.\n"
   ]
  },
  {
   "cell_type": "code",
   "execution_count": 51,
   "metadata": {},
   "outputs": [
    {
     "data": {
      "image/png": "[encoded data removed]",
      "text/plain": [
       "<Figure size 432x288 with 1 Axes>"
      ]
     },
     "metadata": {
      "needs_background": "light"
     },
     "output_type": "display_data"
    }
   ],
   "source": [
    "from sklearn.metrics import roc_curve\n",
    "fpr, tpr, thresholds = roc_curve(y_test, svc.decision_function(X_test))\n",
    "\n",
    "plt.plot(fpr, tpr, label=\"ROC Curve\")\n",
    "plt.xlabel(\"FPR\")\n",
    "plt.ylabel(\"TPR (recall)\")\n",
    "# find threshold closest to zero\n",
    "close_zero = np.argmin(np.abs(thresholds))\n",
    "plt.plot(fpr[close_zero], tpr[close_zero], 'o', markersize=10,label=\"threshold zero\", fillstyle=\"none\", c='k', mew=2)\n",
    "plt.legend(loc=4)\n",
    "plt.show()"
   ]
  },
  {
   "cell_type": "code",
   "execution_count": 52,
   "metadata": {},
   "outputs": [
    {
     "data": {
      "image/png": "[encoded data removed]",
      "text/plain": [
       "<Figure size 432x288 with 1 Axes>"
      ]
     },
     "metadata": {
      "needs_background": "light"
     },
     "output_type": "display_data"
    }
   ],
   "source": [
    "from sklearn.metrics import roc_curve\n",
    "\n",
    "fpr, tpr, thresholds = roc_curve(y_test, svc.decision_function(X_test))\n",
    "fpr_rf, tpr_rf, thresholds_rf = roc_curve(y_test, rf.predict_proba(X_test)[:, 1])\n",
    "\n",
    "# find threshold closest to zero\n",
    "close_zero = np.argmin(np.abs(thresholds))\n",
    "\n",
    "plt.plot(fpr, tpr, label=\"ROC Curve SVC\")\n",
    "plt.plot(fpr_rf, tpr_rf, label=\"ROC Curve RF\")\n",
    "\n",
    "plt.xlabel(\"FPR\")\n",
    "plt.ylabel(\"TPR (recall)\")\n",
    "plt.plot(fpr[close_zero], tpr[close_zero], 'o', markersize=10,\n",
    "         label=\"threshold zero SVC\", fillstyle=\"none\", c='k', mew=2)\n",
    "close_default_rf = np.argmin(np.abs(thresholds_rf - 0.5))\n",
    "plt.plot(fpr_rf[close_default_rf], tpr[close_default_rf], '^', markersize=10,\n",
    "         label=\"threshold 0.5 RF\", fillstyle=\"none\", c='k', mew=2)\n",
    "\n",
    "plt.legend(loc=4)\n",
    "\n",
    "plt.show()"
   ]
  },
  {
   "cell_type": "code",
   "execution_count": 53,
   "metadata": {},
   "outputs": [
    {
     "name": "stdout",
     "output_type": "stream",
     "text": [
      "AUC for Random Forest: 0.937\n",
      "AUC for SVC: 0.916\n"
     ]
    }
   ],
   "source": [
    "from sklearn.metrics import roc_auc_score\n",
    "rf_auc = roc_auc_score(y_test, rf.predict_proba(X_test)[:, 1])\n",
    "svc_auc = roc_auc_score(y_test, svc.decision_function(X_test))\n",
    "print(\"AUC for Random Forest: {:.3f}\".format(rf_auc))\n",
    "print(\"AUC for SVC: {:.3f}\".format(svc_auc))"
   ]
  },
  {
   "cell_type": "markdown",
   "metadata": {},
   "source": [
    "### Grid-Search: Exercise\n",
    "\n",
    "> Structure code that performs a Grid Search for ```gamma``` $= [1, 0.05, 0.01]$ for the SVC model and output the ```accuracy``` and ```AUC```.\n",
    "\n"
   ]
  },
  {
   "cell_type": "markdown",
   "metadata": {},
   "source": [
    "### Using evaluation metrics in model selection\n",
    "\n",
    "There is a variety of scoring mechanisms which can be utilised.\n"
   ]
  },
  {
   "cell_type": "code",
   "execution_count": 57,
   "metadata": {},
   "outputs": [
    {
     "name": "stdout",
     "output_type": "stream",
     "text": [
      "Available scorers:\n",
      "['accuracy', 'adjusted_mutual_info_score', 'adjusted_rand_score', 'average_precision', 'balanced_accuracy', 'completeness_score', 'explained_variance', 'f1', 'f1_macro', 'f1_micro', 'f1_samples', 'f1_weighted', 'fowlkes_mallows_score', 'homogeneity_score', 'jaccard', 'jaccard_macro', 'jaccard_micro', 'jaccard_samples', 'jaccard_weighted', 'max_error', 'mutual_info_score', 'neg_brier_score', 'neg_log_loss', 'neg_mean_absolute_error', 'neg_mean_absolute_percentage_error', 'neg_mean_gamma_deviance', 'neg_mean_poisson_deviance', 'neg_mean_squared_error', 'neg_mean_squared_log_error', 'neg_median_absolute_error', 'neg_root_mean_squared_error', 'normalized_mutual_info_score', 'precision', 'precision_macro', 'precision_micro', 'precision_samples', 'precision_weighted', 'r2', 'rand_score', 'recall', 'recall_macro', 'recall_micro', 'recall_samples', 'recall_weighted', 'roc_auc', 'roc_auc_ovo', 'roc_auc_ovo_weighted', 'roc_auc_ovr', 'roc_auc_ovr_weighted', 'top_k_accuracy', 'v_measure_score']\n"
     ]
    }
   ],
   "source": [
    "from sklearn.metrics._scorer import SCORERS\n",
    "print(\"Available scorers:\")\n",
    "print(sorted(SCORERS.keys()))"
   ]
  },
  {
   "cell_type": "markdown",
   "metadata": {},
   "source": [
    "#### Metrics\n",
    "\n",
    "These are standard metrics which are often used."
   ]
  },
  {
   "cell_type": "code",
   "execution_count": 58,
   "metadata": {},
   "outputs": [
    {
     "name": "stdout",
     "output_type": "stream",
     "text": [
      "Default scoring: [0.975      0.99166667 1.         0.99442897 0.98050139]\n",
      "Explicit accuracy scoring: [0.975      0.99166667 1.         0.99442897 0.98050139]\n",
      "AUC scoring: [0.99717078 0.99854252 1.         0.999828   0.98400413]\n"
     ]
    }
   ],
   "source": [
    "# The default scoring for classification is accuracy\n",
    "\n",
    "print(\"Default scoring: {}\".format(cross_val_score(SVC(), digits.data, digits.target == 9, cv=5)))\n",
    "\n",
    "# Providing scoring=\"accuracy\" doesn't change the results\n",
    "explicit_accuracy =  cross_val_score(SVC(), digits.data, digits.target == 9, scoring=\"accuracy\", cv=5)\n",
    "print(\"Explicit accuracy scoring: {}\".format(explicit_accuracy))\n",
    "\n",
    "roc_auc =  cross_val_score(SVC(), digits.data, digits.target == 9,scoring=\"roc_auc\", cv=5)\n",
    "print(\"AUC scoring: {}\".format(roc_auc))"
   ]
  },
  {
   "cell_type": "code",
   "execution_count": 59,
   "metadata": {},
   "outputs": [
    {
     "data": {
      "text/html": [
       "<div>\n",
       "<style scoped>\n",
       "    .dataframe tbody tr th:only-of-type {\n",
       "        vertical-align: middle;\n",
       "    }\n",
       "\n",
       "    .dataframe tbody tr th {\n",
       "        vertical-align: top;\n",
       "    }\n",
       "\n",
       "    .dataframe thead th {\n",
       "        text-align: right;\n",
       "    }\n",
       "</style>\n",
       "<table border=\"1\" class=\"dataframe\">\n",
       "  <thead>\n",
       "    <tr style=\"text-align: right;\">\n",
       "      <th></th>\n",
       "      <th>fit_time</th>\n",
       "      <th>score_time</th>\n",
       "      <th>test_accuracy</th>\n",
       "      <th>train_accuracy</th>\n",
       "      <th>test_roc_auc</th>\n",
       "      <th>train_roc_auc</th>\n",
       "      <th>test_recall_macro</th>\n",
       "      <th>train_recall_macro</th>\n",
       "    </tr>\n",
       "  </thead>\n",
       "  <tbody>\n",
       "    <tr>\n",
       "      <th>0</th>\n",
       "      <td>0.017811</td>\n",
       "      <td>0.018470</td>\n",
       "      <td>0.975000</td>\n",
       "      <td>0.994433</td>\n",
       "      <td>0.997171</td>\n",
       "      <td>0.998679</td>\n",
       "      <td>0.887346</td>\n",
       "      <td>0.972222</td>\n",
       "    </tr>\n",
       "    <tr>\n",
       "      <th>1</th>\n",
       "      <td>0.017840</td>\n",
       "      <td>0.019061</td>\n",
       "      <td>0.991667</td>\n",
       "      <td>0.995825</td>\n",
       "      <td>0.998543</td>\n",
       "      <td>0.999141</td>\n",
       "      <td>0.958333</td>\n",
       "      <td>0.982252</td>\n",
       "    </tr>\n",
       "    <tr>\n",
       "      <th>2</th>\n",
       "      <td>0.019152</td>\n",
       "      <td>0.020122</td>\n",
       "      <td>1.000000</td>\n",
       "      <td>0.995132</td>\n",
       "      <td>1.000000</td>\n",
       "      <td>0.998975</td>\n",
       "      <td>1.000000</td>\n",
       "      <td>0.978780</td>\n",
       "    </tr>\n",
       "    <tr>\n",
       "      <th>3</th>\n",
       "      <td>0.018675</td>\n",
       "      <td>0.020379</td>\n",
       "      <td>0.994429</td>\n",
       "      <td>0.995828</td>\n",
       "      <td>0.999828</td>\n",
       "      <td>0.998825</td>\n",
       "      <td>0.972222</td>\n",
       "      <td>0.982252</td>\n",
       "    </tr>\n",
       "    <tr>\n",
       "      <th>4</th>\n",
       "      <td>0.018348</td>\n",
       "      <td>0.020617</td>\n",
       "      <td>0.980501</td>\n",
       "      <td>0.996523</td>\n",
       "      <td>0.984004</td>\n",
       "      <td>0.999914</td>\n",
       "      <td>0.902778</td>\n",
       "      <td>0.985725</td>\n",
       "    </tr>\n",
       "  </tbody>\n",
       "</table>\n",
       "</div>"
      ],
      "text/plain": [
       "   fit_time  score_time  test_accuracy  train_accuracy  test_roc_auc  \\\n",
       "0  0.017811    0.018470       0.975000        0.994433      0.997171   \n",
       "1  0.017840    0.019061       0.991667        0.995825      0.998543   \n",
       "2  0.019152    0.020122       1.000000        0.995132      1.000000   \n",
       "3  0.018675    0.020379       0.994429        0.995828      0.999828   \n",
       "4  0.018348    0.020617       0.980501        0.996523      0.984004   \n",
       "\n",
       "   train_roc_auc  test_recall_macro  train_recall_macro  \n",
       "0       0.998679           0.887346            0.972222  \n",
       "1       0.999141           0.958333            0.982252  \n",
       "2       0.998975           1.000000            0.978780  \n",
       "3       0.998825           0.972222            0.982252  \n",
       "4       0.999914           0.902778            0.985725  "
      ]
     },
     "metadata": {},
     "output_type": "display_data"
    }
   ],
   "source": [
    "res = cross_validate(SVC(), digits.data, digits.target == 9,\n",
    "                     scoring=[\"accuracy\", \"roc_auc\", \"recall_macro\"],\n",
    "                     return_train_score=True, cv=5)\n",
    "display(pd.DataFrame(res))"
   ]
  },
  {
   "cell_type": "markdown",
   "metadata": {},
   "source": [
    "#### Grid Search\n",
    "\n",
    "The scoring metric you employ can have an impact on how well the grid search is performed. See the simple example below where the default scoring of \"accuracy\" was used."
   ]
  },
  {
   "cell_type": "code",
   "execution_count": 60,
   "metadata": {},
   "outputs": [
    {
     "name": "stdout",
     "output_type": "stream",
     "text": [
      "Grid-Search with accuracy\n",
      "Best parameters: {'gamma': 0.0001}\n",
      "Best cross-validation score (accuracy)): 0.976\n",
      "Test set AUC: 0.992\n",
      "Test set accuracy: 0.973\n"
     ]
    }
   ],
   "source": [
    "X_train, X_test, y_train, y_test = train_test_split(\n",
    "    digits.data, digits.target == 9, random_state=0)\n",
    "\n",
    "param_grid = {'gamma': [0.0001, 0.01, 0.1, 1, 10]}\n",
    "grid = GridSearchCV(SVC(), param_grid=param_grid)\n",
    "grid.fit(X_train, y_train)\n",
    "\n",
    "print(\"Grid-Search with accuracy\")\n",
    "print(\"Best parameters:\", grid.best_params_)\n",
    "print(\"Best cross-validation score (accuracy)): {:.3f}\".format(grid.best_score_))\n",
    "print(\"Test set AUC: {:.3f}\".format(\n",
    "    roc_auc_score(y_test, grid.decision_function(X_test))))\n",
    "print(\"Test set accuracy: {:.3f}\".format(grid.score(X_test, y_test)))"
   ]
  },
  {
   "cell_type": "markdown",
   "metadata": {},
   "source": [
    "Were we instead to employ AUC scoring the results are different:"
   ]
  },
  {
   "cell_type": "code",
   "execution_count": 61,
   "metadata": {},
   "outputs": [
    {
     "name": "stdout",
     "output_type": "stream",
     "text": [
      "\n",
      "Grid-Search with AUC\n",
      "Best parameters: {'gamma': 0.01}\n",
      "Best cross-validation score (AUC): 0.998\n",
      "Test set AUC: 1.000\n",
      "Test set accuracy: 1.000\n"
     ]
    }
   ],
   "source": [
    "grid = GridSearchCV(SVC(), param_grid=param_grid, scoring=\"roc_auc\")\n",
    "grid.fit(X_train, y_train)\n",
    "print(\"\\nGrid-Search with AUC\")\n",
    "print(\"Best parameters:\", grid.best_params_)\n",
    "print(\"Best cross-validation score (AUC): {:.3f}\".format(grid.best_score_))\n",
    "print(\"Test set AUC: {:.3f}\".format(\n",
    "    roc_auc_score(y_test, grid.decision_function(X_test))))\n",
    "print(\"Test set accuracy: {:.3f}\".format(grid.score(X_test, y_test)))"
   ]
  },
  {
   "cell_type": "markdown",
   "metadata": {},
   "source": [
    "### Performance: Exercise\n",
    "\n",
    "> Choose a model other than the one considered here and assess the use of some (at least three) of the ```scorers``` listed above.\n"
   ]
  },
  {
   "cell_type": "code",
   "execution_count": null,
   "metadata": {},
   "outputs": [],
   "source": []
  }
 ],
 "metadata": {
  "anaconda-cloud": {},
  "kernelspec": {
   "display_name": "Python 3 (ipykernel)",
   "language": "python",
   "name": "python3"
  },
  "language_info": {
   "codemirror_mode": {
    "name": "ipython",
    "version": 3
   },
   "file_extension": ".py",
   "mimetype": "text/x-python",
   "name": "python",
   "nbconvert_exporter": "python",
   "pygments_lexer": "ipython3",
   "version": "3.11.3"
  },
  "varInspector": {
   "cols": {
    "lenName": 16,
    "lenType": 16,
    "lenVar": 40
   },
   "kernels_config": {
    "python": {
     "delete_cmd_postfix": "",
     "delete_cmd_prefix": "del ",
     "library": "var_list.py",
     "varRefreshCmd": "print(var_dic_list())"
    },
    "r": {
     "delete_cmd_postfix": ") ",
     "delete_cmd_prefix": "rm(",
     "library": "var_list.r",
     "varRefreshCmd": "cat(var_dic_list()) "
    }
   },
   "types_to_exclude": [
    "module",
    "function",
    "builtin_function_or_method",
    "instance",
    "_Feature"
   ],
   "window_display": false
  }
 },
 "nbformat": 4,
 "nbformat_minor": 4
}
