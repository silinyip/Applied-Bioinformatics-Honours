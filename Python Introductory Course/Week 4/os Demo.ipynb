{
 "cells": [
  {
   "cell_type": "code",
   "execution_count": 1,
   "id": "49d11bff-4634-4232-a089-f257ebd3f174",
   "metadata": {
    "tags": []
   },
   "outputs": [],
   "source": [
    "import os"
   ]
  },
  {
   "cell_type": "code",
   "execution_count": 2,
   "id": "919f19bf-4de8-4f6e-a0c8-b6044cd44e9a",
   "metadata": {
    "tags": []
   },
   "outputs": [
    {
     "name": "stdout",
     "output_type": "stream",
     "text": [
      "['DirEntry', 'EX_OK', 'F_OK', 'GenericAlias', 'Mapping', 'MutableMapping', 'O_APPEND', 'O_BINARY', 'O_CREAT', 'O_EXCL', 'O_NOINHERIT', 'O_RANDOM', 'O_RDONLY', 'O_RDWR', 'O_SEQUENTIAL', 'O_SHORT_LIVED', 'O_TEMPORARY', 'O_TEXT', 'O_TRUNC', 'O_WRONLY', 'P_DETACH', 'P_NOWAIT', 'P_NOWAITO', 'P_OVERLAY', 'P_WAIT', 'PathLike', 'R_OK', 'SEEK_CUR', 'SEEK_END', 'SEEK_SET', 'TMP_MAX', 'W_OK', 'X_OK', '_AddedDllDirectory', '_Environ', '__all__', '__builtins__', '__doc__', '__file__', '__loader__', '__name__', '__package__', '__spec__', '_check_methods', '_execvpe', '_exists', '_exit', '_fspath', '_get_exports_list', '_walk', '_wrap_close', 'abc', 'abort', 'access', 'add_dll_directory', 'altsep', 'chdir', 'chmod', 'close', 'closerange', 'cpu_count', 'curdir', 'defpath', 'device_encoding', 'devnull', 'dup', 'dup2', 'environ', 'error', 'execl', 'execle', 'execlp', 'execlpe', 'execv', 'execve', 'execvp', 'execvpe', 'extsep', 'fdopen', 'fsdecode', 'fsencode', 'fspath', 'fstat', 'fsync', 'ftruncate', 'get_exec_path', 'get_handle_inheritable', 'get_inheritable', 'get_terminal_size', 'getcwd', 'getcwdb', 'getenv', 'getlogin', 'getpid', 'getppid', 'isatty', 'kill', 'linesep', 'link', 'listdir', 'lseek', 'lstat', 'makedirs', 'mkdir', 'name', 'open', 'pardir', 'path', 'pathsep', 'pipe', 'popen', 'putenv', 'read', 'readlink', 'remove', 'removedirs', 'rename', 'renames', 'replace', 'rmdir', 'scandir', 'sep', 'set_handle_inheritable', 'set_inheritable', 'spawnl', 'spawnle', 'spawnv', 'spawnve', 'st', 'startfile', 'stat', 'stat_result', 'statvfs_result', 'strerror', 'supports_bytes_environ', 'supports_dir_fd', 'supports_effective_ids', 'supports_fd', 'supports_follow_symlinks', 'symlink', 'sys', 'system', 'terminal_size', 'times', 'times_result', 'truncate', 'umask', 'uname_result', 'unlink', 'unsetenv', 'urandom', 'utime', 'waitpid', 'waitstatus_to_exitcode', 'walk', 'write']\n"
     ]
    }
   ],
   "source": [
    "print(dir(os))"
   ]
  },
  {
   "cell_type": "code",
   "execution_count": 24,
   "id": "92ebd6cc-94fb-44e0-a6aa-0b2da60da0af",
   "metadata": {
    "tags": []
   },
   "outputs": [
    {
     "name": "stdout",
     "output_type": "stream",
     "text": [
      "C:\\Users\\HP\\Documents\n"
     ]
    }
   ],
   "source": [
    "print(os.getcwd())"
   ]
  },
  {
   "cell_type": "code",
   "execution_count": 25,
   "id": "b4f384ee-2934-4aa1-89c3-cce7c90e0bb3",
   "metadata": {
    "tags": []
   },
   "outputs": [],
   "source": [
    "os.chdir(r\"C:\\Users\\HP\\Documents\")"
   ]
  },
  {
   "cell_type": "code",
   "execution_count": 26,
   "id": "b1768561-a369-47f5-91d1-7c47f21ef056",
   "metadata": {
    "tags": []
   },
   "outputs": [
    {
     "name": "stdout",
     "output_type": "stream",
     "text": [
      "C:\\Users\\HP\\Documents\n"
     ]
    }
   ],
   "source": [
    "print(os.getcwd())"
   ]
  },
  {
   "cell_type": "code",
   "execution_count": 27,
   "id": "c1091307-34fd-445e-abfc-b163e50bfcb6",
   "metadata": {
    "tags": []
   },
   "outputs": [
    {
     "name": "stdout",
     "output_type": "stream",
     "text": [
      "['.Rhistory', 'Coding Resources', 'Custom Office Templates', 'desktop.ini', 'KingsoftData', 'Letter.docx', 'My Music', 'My Pictures', 'My Videos', 'R', 'Si Lin', 'Wits', 'Zoom']\n"
     ]
    }
   ],
   "source": [
    "print(os.listdir())"
   ]
  },
  {
   "cell_type": "code",
   "execution_count": 28,
   "id": "cd4a4776-2e52-459a-a4fe-9763b79448f0",
   "metadata": {
    "tags": []
   },
   "outputs": [
    {
     "name": "stdout",
     "output_type": "stream",
     "text": [
      "os.stat_result(st_mode=16895, st_ino=22799473113582311, st_dev=906191934, st_nlink=1, st_uid=0, st_gid=0, st_size=4096, st_atime=1689581391, st_mtime=1688735568, st_ctime=1670143122)\n"
     ]
    }
   ],
   "source": [
    "print(os.stat(\"Coding Resources\"))"
   ]
  },
  {
   "cell_type": "code",
   "execution_count": 30,
   "id": "f64d7efd-3f1a-4145-a17c-98c0062bd59e",
   "metadata": {
    "tags": []
   },
   "outputs": [
    {
     "name": "stdout",
     "output_type": "stream",
     "text": [
      "1688735568.1757326\n"
     ]
    }
   ],
   "source": [
    "print(os.stat(\"Coding Resources\").st_mtime)"
   ]
  },
  {
   "cell_type": "code",
   "execution_count": null,
   "id": "04bb667e-3004-46f2-909e-e7cf35b3e05e",
   "metadata": {
    "tags": []
   },
   "outputs": [],
   "source": [
    "for dirpath, dirnames, filenames in os.walk(r\"C:\\Users\\HP\\Documents\"):\n",
    "    print(\"Current path: \", dirpath)\n",
    "    print(\"Directories: \", dirnames)\n",
    "    print(\"Files: \", filenames)\n",
    "    print()"
   ]
  },
  {
   "cell_type": "code",
   "execution_count": 42,
   "id": "d5c9fddc-ae5f-4129-9096-54d2e49e3add",
   "metadata": {
    "tags": []
   },
   "outputs": [
    {
     "name": "stdout",
     "output_type": "stream",
     "text": [
      "\\Users\\HP\n"
     ]
    }
   ],
   "source": [
    "print(os.environ.get(\"HOMEPATH\"))"
   ]
  },
  {
   "cell_type": "code",
   "execution_count": 43,
   "id": "b6e9299a-a3bb-4d2c-b000-7c22f1bb9ee5",
   "metadata": {
    "tags": []
   },
   "outputs": [
    {
     "name": "stdout",
     "output_type": "stream",
     "text": [
      "new_file\n"
     ]
    }
   ],
   "source": [
    "print(os.path.basename(r\"\\tmp\\new_file\"))"
   ]
  },
  {
   "cell_type": "code",
   "execution_count": 44,
   "id": "6d93a724-ee1b-40de-845e-9ba25d58df12",
   "metadata": {
    "tags": []
   },
   "outputs": [
    {
     "name": "stdout",
     "output_type": "stream",
     "text": [
      "\\tmp\n"
     ]
    }
   ],
   "source": [
    "print(os.path.dirname(r\"\\tmp\\new_file\"))"
   ]
  },
  {
   "cell_type": "code",
   "execution_count": 62,
   "id": "8008b45d-8b9d-497f-8363-618d06edd487",
   "metadata": {
    "tags": []
   },
   "outputs": [
    {
     "name": "stdout",
     "output_type": "stream",
     "text": [
      "('\\\\tmp', 'new_file')\n"
     ]
    }
   ],
   "source": [
    "print(os.path.split(r\"\\tmp\\new_file\"))"
   ]
  },
  {
   "cell_type": "code",
   "execution_count": 50,
   "id": "94a47c37-edbe-4f35-9425-0fb9b6a9871f",
   "metadata": {
    "tags": []
   },
   "outputs": [
    {
     "name": "stdout",
     "output_type": "stream",
     "text": [
      "False\n"
     ]
    }
   ],
   "source": [
    "print(os.path.exists(r\"\\tmp\\new_file\"))"
   ]
  },
  {
   "cell_type": "code",
   "execution_count": 56,
   "id": "cb8c4e5c-57f6-4967-820b-eb65bca96719",
   "metadata": {
    "tags": []
   },
   "outputs": [
    {
     "name": "stdout",
     "output_type": "stream",
     "text": [
      "False\n"
     ]
    }
   ],
   "source": [
    "print(os.path.isdir(r\"\\tmp\\new_file\"))"
   ]
  },
  {
   "cell_type": "code",
   "execution_count": 55,
   "id": "9ddd943c-710c-4a7b-8a58-9bccf106540e",
   "metadata": {
    "tags": []
   },
   "outputs": [
    {
     "name": "stdout",
     "output_type": "stream",
     "text": [
      "False\n"
     ]
    }
   ],
   "source": [
    "print(os.path.isfile(r\"\\tmp\\new_file\"))"
   ]
  },
  {
   "cell_type": "code",
   "execution_count": 63,
   "id": "075b1524-62af-4385-93c5-9d70f83034f3",
   "metadata": {
    "tags": []
   },
   "outputs": [
    {
     "name": "stdout",
     "output_type": "stream",
     "text": [
      "('\\\\tmp\\\\test', '.txt')\n"
     ]
    }
   ],
   "source": [
    "print(os.path.splitext(r\"\\tmp\\test.txt\"))"
   ]
  },
  {
   "cell_type": "code",
   "execution_count": null,
   "id": "29fb7263-7ad3-446c-8733-d77eb0b480da",
   "metadata": {},
   "outputs": [],
   "source": []
  }
 ],
 "metadata": {
  "kernelspec": {
   "display_name": "Python 3 (ipykernel)",
   "language": "python",
   "name": "python3"
  },
  "language_info": {
   "codemirror_mode": {
    "name": "ipython",
    "version": 3
   },
   "file_extension": ".py",
   "mimetype": "text/x-python",
   "name": "python",
   "nbconvert_exporter": "python",
   "pygments_lexer": "ipython3",
   "version": "3.11.3"
  }
 },
 "nbformat": 4,
 "nbformat_minor": 5
}
