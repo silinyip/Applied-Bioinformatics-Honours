{
 "cells": [
  {
   "cell_type": "code",
   "execution_count": 1,
   "id": "0b69b853-d058-4bcb-a397-4c951b587d43",
   "metadata": {
    "tags": []
   },
   "outputs": [],
   "source": [
    "import os"
   ]
  },
  {
   "cell_type": "code",
   "execution_count": 2,
   "id": "debc77f4-836f-4900-8a98-78858b7723ea",
   "metadata": {},
   "outputs": [
    {
     "name": "stdout",
     "output_type": "stream",
     "text": [
      "C:\\Users\\HP\\Documents\\Wits\\3. Research Project - AB (MCBG4030A)\\Coding\\Python Introductory Course\\Week 4\n"
     ]
    }
   ],
   "source": [
    "print(os.getcwd())"
   ]
  },
  {
   "cell_type": "code",
   "execution_count": 3,
   "id": "277664cd-ebfa-4568-9f84-ae6b7e1e2a58",
   "metadata": {
    "tags": []
   },
   "outputs": [],
   "source": [
    "os.chdir(r\"C:\\Users\\HP\\Downloads\")"
   ]
  },
  {
   "cell_type": "code",
   "execution_count": 4,
   "id": "dc8c163d-ec64-4179-aee1-d2c38dbd4d8e",
   "metadata": {
    "tags": []
   },
   "outputs": [
    {
     "name": "stdout",
     "output_type": "stream",
     "text": [
      "C:\\Users\\HP\\Downloads\n"
     ]
    }
   ],
   "source": [
    "print(os.getcwd())"
   ]
  },
  {
   "cell_type": "code",
   "execution_count": 5,
   "id": "23ca9475-ba3d-4446-9950-7a3af24830ad",
   "metadata": {
    "tags": []
   },
   "outputs": [],
   "source": [
    "os.makedirs(\"Images\")"
   ]
  },
  {
   "cell_type": "code",
   "execution_count": 6,
   "id": "6bbc93c8-5563-47ba-a45e-f3fe631f2679",
   "metadata": {
    "tags": []
   },
   "outputs": [
    {
     "name": "stdout",
     "output_type": "stream",
     "text": [
      "['1.txt', '41588_2020_636_MOESM3_ESM.xlsx', 'AB Tools', 'Apps', 'Dataset', 'desktop.ini', 'dog.jpeg', 'downloading_data.md', 'filereport_read_run_PRJEB64127_tsv.txt', 'Images', 'Lineage-dependent gene expression programs.pdf', 'rstudio-ide.pdf', 'Thesis Methods Summary.pdf', 'Writing Examples']\n"
     ]
    }
   ],
   "source": [
    "print(os.listdir())"
   ]
  },
  {
   "cell_type": "code",
   "execution_count": 7,
   "id": "59b93024-fdca-4732-b38c-290aaa1124a3",
   "metadata": {
    "tags": []
   },
   "outputs": [],
   "source": [
    "#copying images into \"Images\" directory\n",
    "\n",
    "#source_path = r\"C:\\Users\\HP\\Downloads\"\n",
    "#destination_path = r\"C:\\Users\\HP\\Downloads\\Images\"\n",
    "\n",
    "extensions = (\".jpg\", \".png\", \".jpeg\")\n",
    "\n",
    "def copy_images():\n",
    "    for file in os.listdir(r\"C:\\Users\\HP\\Downloads\"):\n",
    "        if file.endswith(extensions):\n",
    "            os.system(\"copy \" + os.path.join(r\"C:\\Users\\HP\\Downloads\", file) + \" \" + r\"C:\\Users\\HP\\Downloads\\Images\")     #joining path components (Downloads directory + image paths)\n",
    "        \n",
    "    images_in_Images = os.listdir(r\"C:\\Users\\HP\\Downloads\\Images\")     #assigning list output to a variable\n",
    "    images_string = \"\\n\".join(images_in_Images)     #converting list to string; \\n = new line\n",
    "    \n",
    "    print(images_string)\n",
    "    return"
   ]
  },
  {
   "cell_type": "code",
   "execution_count": 8,
   "id": "22e2fca8-43f7-42e5-afcb-209f8a8883cb",
   "metadata": {
    "tags": []
   },
   "outputs": [
    {
     "name": "stdout",
     "output_type": "stream",
     "text": [
      "dog.jpeg\n"
     ]
    }
   ],
   "source": [
    "copy_images()"
   ]
  },
  {
   "cell_type": "code",
   "execution_count": 11,
   "id": "fa6dd967-98cf-4edf-b994-48c82e047967",
   "metadata": {
    "tags": []
   },
   "outputs": [],
   "source": [
    "#renaming images in \"Images\" directory\n",
    "\n",
    "def rename_images():\n",
    "    file_extensions = [\".jpg\", \".png\", \".jpeg\"]     #list of file extensions to rename\n",
    "    prefix = \"S\"     #string that will be added as prefix to the new names\n",
    "    number = 0\n",
    "    \n",
    "    for file in os.listdir(r\"C:\\Users\\HP\\Downloads\\Images\"):\n",
    "        filename, file_extension = os.path.splitext(file)     #split file variable into filename (e.g. \"Bird\") and file_extension (e.g. \".jpeg\")\n",
    "        if file_extension in file_extensions:     # if file has extension that matches list, that file will be renames\n",
    "            new_filename = prefix + str(number) + file_extension \n",
    "            os.rename(r\"C:\\Users\\HP\\Downloads\\Images\" + \"/\" + file, r\"C:\\Users\\HP\\Downloads\\Images\" + \"/\" + new_filename)     #path of the file to be renamed (the text before the comma), and path for new name of the file\n",
    "            number += 1\n",
    "            \n",
    "    print(os.listdir(r\"C:\\Users\\HP\\Downloads\\Images\"))\n",
    "    return"
   ]
  },
  {
   "cell_type": "code",
   "execution_count": 12,
   "id": "fe80dc4e-a643-4a29-a154-355e6d31dd9c",
   "metadata": {
    "tags": []
   },
   "outputs": [
    {
     "name": "stdout",
     "output_type": "stream",
     "text": [
      "['S0.jpeg']\n"
     ]
    }
   ],
   "source": [
    "rename_images()"
   ]
  },
  {
   "cell_type": "code",
   "execution_count": null,
   "id": "91e976e4-e504-4fb5-acfa-e44a1fd551bf",
   "metadata": {},
   "outputs": [],
   "source": []
  }
 ],
 "metadata": {
  "kernelspec": {
   "display_name": "Python 3 (ipykernel)",
   "language": "python",
   "name": "python3"
  },
  "language_info": {
   "codemirror_mode": {
    "name": "ipython",
    "version": 3
   },
   "file_extension": ".py",
   "mimetype": "text/x-python",
   "name": "python",
   "nbconvert_exporter": "python",
   "pygments_lexer": "ipython3",
   "version": "3.11.3"
  }
 },
 "nbformat": 4,
 "nbformat_minor": 5
}
