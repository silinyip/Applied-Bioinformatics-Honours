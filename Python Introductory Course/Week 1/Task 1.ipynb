{
 "cells": [
  {
   "cell_type": "code",
   "execution_count": null,
   "id": "1ee493b7-48a8-45ce-b379-29618300d5ef",
   "metadata": {
    "tags": []
   },
   "outputs": [],
   "source": [
    "import pandas as pd"
   ]
  },
  {
   "cell_type": "code",
   "execution_count": null,
   "id": "45a7c7b9-05d1-4b84-92fd-cc1c5cea4523",
   "metadata": {
    "tags": []
   },
   "outputs": [],
   "source": [
    "df1 = pd.DataFrame({\"x\" : [1, 3, 5, 7], \"y\" : [2, 4, 6, 8]})"
   ]
  },
  {
   "cell_type": "code",
   "execution_count": null,
   "id": "c5286f68-df69-4826-a6a0-ddff30e71fa8",
   "metadata": {
    "tags": []
   },
   "outputs": [],
   "source": [
    "df1"
   ]
  },
  {
   "cell_type": "code",
   "execution_count": null,
   "id": "72bbf01a-0aa6-4121-8a00-ec545e039cb7",
   "metadata": {
    "tags": []
   },
   "outputs": [],
   "source": [
    "# 1.1. append single row of data into dataframe\n",
    "pd.concat([df1, pd.DataFrame([{ 'x': 9, \"y\" : 10}])])"
   ]
  },
  {
   "cell_type": "code",
   "execution_count": null,
   "id": "e3ff4f87-3e90-4169-acbc-649b372199e7",
   "metadata": {
    "tags": []
   },
   "outputs": [],
   "source": [
    "# 1.2. append new dataframe into existing dataframe\n",
    "df2 = pd.DataFrame({\"x\" : [11, 13, 15, 17], \"y\" : [12, 14, 16, 18]})\n",
    "new_df = pd.concat([df1, df2], ignore_index = True)\n",
    "new_df"
   ]
  },
  {
   "cell_type": "code",
   "execution_count": null,
   "id": "e5594c9f-7201-43fb-a58c-fa0707be08c3",
   "metadata": {},
   "outputs": [],
   "source": [
    "# 2.1. sort dataframe (ascending)\n",
    "new_df.sort_index()"
   ]
  },
  {
   "cell_type": "code",
   "execution_count": null,
   "id": "3a4f9b54-7154-4d03-ad0b-0c0395bf6505",
   "metadata": {
    "tags": []
   },
   "outputs": [],
   "source": [
    "# 2.2. sort dataframe (descending)\n",
    "new_df.sort_index(ascending = False)"
   ]
  },
  {
   "cell_type": "code",
   "execution_count": null,
   "id": "fb12421c-6cdc-4c0d-a615-473a27c2ad8f",
   "metadata": {},
   "outputs": [],
   "source": [
    "# 3.1. filtering dataframe (double digits)\n",
    "double_digits = (new_df[\"x\"] >= 10) | (new_df[\"y\"] >= 10)\n",
    "new_df.loc[double_digits]"
   ]
  },
  {
   "cell_type": "code",
   "execution_count": null,
   "id": "a4c16af0-5d71-48c0-975a-58f126b46502",
   "metadata": {
    "tags": []
   },
   "outputs": [],
   "source": [
    "# 3.2. filering dataframe (single digits)\n",
    "single_digits = (new_df[\"x\"] < 10) | (new_df[\"y\"] < 10)\n",
    "new_df.loc[single_digits]"
   ]
  },
  {
   "cell_type": "code",
   "execution_count": null,
   "id": "e50ab852-10f7-4ea5-8c2f-f4040029f662",
   "metadata": {},
   "outputs": [],
   "source": [
    "# 4. create empty dataframe\n",
    "empty_df = pd.DataFrame()"
   ]
  },
  {
   "cell_type": "code",
   "execution_count": null,
   "id": "0a8d3daa-e28e-48c5-ac42-baf67561457b",
   "metadata": {},
   "outputs": [],
   "source": [
    "# 5. write function that takes in 4 int variables and append into dataframe\n",
    "people_details = {\n",
    "    \"name\" : [\"Jane Doe\", \"Peter Smith\", \"Morgan Green\"],\n",
    "    \"height\" : [\"170\", \"189\", \"167\"],\n",
    "    \"weight\" : [\"60\", \"75\", \"59\"],\n",
    "    \"age\" : [\"23\", \"25\", \"20\"]\n",
    "}\n",
    "df3 = pd.DataFrame(people_details)\n",
    "df3"
   ]
  },
  {
   "cell_type": "code",
   "execution_count": null,
   "id": "b3e2e9c6-3617-40e1-b683-2a2031097007",
   "metadata": {
    "tags": []
   },
   "outputs": [],
   "source": [
    "df3.set_index(\"name\", inplace = True)"
   ]
  },
  {
   "cell_type": "code",
   "execution_count": null,
   "id": "2fdab119-d242-4d12-9bf1-98a9213ee215",
   "metadata": {
    "tags": []
   },
   "outputs": [],
   "source": [
    "df3"
   ]
  },
  {
   "cell_type": "code",
   "execution_count": null,
   "id": "925c52db-ac41-4bd6-a1c5-56df0d1ff9e8",
   "metadata": {
    "tags": []
   },
   "outputs": [],
   "source": [
    "def people_details(name, height, weight, age):\n",
    "    df3 = pd.DataFrame(people_details)\n",
    "    people_df = pd.DataFrame({\"name\" : \"\", \"height\" : \"\", \"weight\" : \"\", \"age\" : \"\"})\n",
    "    return pd.DataFrame(people_details)"
   ]
  },
  {
   "cell_type": "code",
   "execution_count": null,
   "id": "48808e88-323a-4877-8923-62470481877a",
   "metadata": {
    "tags": []
   },
   "outputs": [],
   "source": [
    "people_details(\"Amy\", 163, 55, 21)"
   ]
  },
  {
   "cell_type": "code",
   "execution_count": null,
   "id": "1337d271-5833-4a5a-b210-2f5dd7671b3b",
   "metadata": {
    "tags": []
   },
   "outputs": [],
   "source": [
    "def people_details(name, height, weight, age):\n",
    "    people_details = {\n",
    "        \"name\" : \"Name: \", #[\"Jane Doe\", \"Peter Smith\", \"Morgan Green\"],\n",
    "        \"height\" : \"Height: \", #[\"170\", \"189\", \"167\"],\n",
    "        \"weight\" : \"Weight: \", #[\"60\", \"75\", \"59\"],\n",
    "        \"age\" : \"Age: \" #[\"23\", \"25\", \"20\"]\n",
    "    }\n",
    "    df3 = pd.DataFrame(people_details)\n",
    "    df3.set_index(\"name\", inplace = True)\n",
    "    df3_new = pd.concat([df3, pd.DataFrame(people_details)])\n",
    "    return df3_new"
   ]
  },
  {
   "cell_type": "code",
   "execution_count": null,
   "id": "3be1e661-9112-4da5-bea6-b8dc8d2ecff0",
   "metadata": {
    "tags": []
   },
   "outputs": [],
   "source": [
    "people_details = {\n",
    "        \"name\" : \"Name: \", #[\"Jane Doe\", \"Peter Smith\", \"Morgan Green\"],\n",
    "        \"height\" : \"Height: \", #[\"170\", \"189\", \"167\"],\n",
    "        \"weight\" : \"Weight: \", #[\"60\", \"75\", \"59\"],\n",
    "        \"age\" : \"Age: \" #[\"23\", \"25\", \"20\"]\n",
    "    }\n",
    "df3 = pd.DataFrame([people_details])"
   ]
  },
  {
   "cell_type": "code",
   "execution_count": null,
   "id": "b9b54af5-7c65-47fb-944c-700fb42926e5",
   "metadata": {
    "tags": []
   },
   "outputs": [],
   "source": [
    "df3"
   ]
  },
  {
   "cell_type": "code",
   "execution_count": null,
   "id": "381127b3-a198-4a43-87c6-c43c4f7736db",
   "metadata": {
    "tags": []
   },
   "outputs": [],
   "source": [
    "name = \"Amy\" #input(\"Name: \")\n",
    "height = \"163\" #input(\"Height: \")\n",
    "weight = \"55\" #input(\"Weight: \")\n",
    "age = \"21\" #input(\"Age: \")\n",
    "print(people_details)"
   ]
  },
  {
   "cell_type": "code",
   "execution_count": null,
   "id": "bbc5ea76-9989-4d7d-be0b-828bad047053",
   "metadata": {
    "tags": []
   },
   "outputs": [],
   "source": [
    "# 5 (ChatGPT)\n",
    "def people_data(name, height, weight, age):\n",
    "    series1 = pd.Series(name)\n",
    "    series2 = pd.Series(height)\n",
    "    series3 = pd.Series(weight)\n",
    "    series4 = pd.Series(age)\n",
    "    \n",
    "    df = pd.concat([series1, series2, series3, series4], axis = 1)\n",
    "    \n",
    "    return df"
   ]
  },
  {
   "cell_type": "code",
   "execution_count": null,
   "id": "7a36bd37-ff45-43a2-9887-af2d412168f0",
   "metadata": {
    "tags": []
   },
   "outputs": [],
   "source": [
    "people_data(\"Amy\", 162, 55, 21)"
   ]
  },
  {
   "cell_type": "code",
   "execution_count": null,
   "id": "06d7cea7-5a0f-4a4a-a385-1410f5cfb40e",
   "metadata": {},
   "outputs": [],
   "source": []
  },
  {
   "cell_type": "code",
   "execution_count": null,
   "id": "42a3f082-884f-4b62-ac82-effc169c5639",
   "metadata": {},
   "outputs": [],
   "source": [
    "# 5 (attempt 2)\n",
    "empty_df = pd.DataFrame()\n",
    "def people(empty_df, name, age, height, weight):\n",
    "    people = {\n",
    "        \"name\" : [name],\n",
    "        \"age\" : [age],\n",
    "        \"height\" : [height],\n",
    "        \"weight\" : [weight]\n",
    "    } \n",
    "    #people = pd.DataFrame(people)\n",
    "    df = pd.concat([empty_df, pd.DataFrame(people)], axis = 0)\n",
    "    df.set_index(\"name\", inplace = True)\n",
    "    \n",
    "    return df"
   ]
  },
  {
   "cell_type": "code",
   "execution_count": null,
   "id": "9fc0bc73-148c-4296-a993-807fe6eeac97",
   "metadata": {
    "tags": []
   },
   "outputs": [],
   "source": [
    "people(empty_df, \"Amy\", 21, 55, 162)"
   ]
  },
  {
   "cell_type": "code",
   "execution_count": null,
   "id": "2b565ad2-1d10-4efe-8eb3-9c2f0f5db258",
   "metadata": {
    "tags": []
   },
   "outputs": [],
   "source": [
    "people(empty_df, \"Ben\", 50, 60, 175)"
   ]
  },
  {
   "cell_type": "code",
   "execution_count": null,
   "id": "a6c55dbf-e321-48ab-89a3-263cffbda5cf",
   "metadata": {
    "tags": []
   },
   "outputs": [],
   "source": [
    "# 5 (attempt 3)\n",
    "def concatenate_row(df, new_row_data):\n",
    "    new_row = pd.DataFrame([new_row_data], columns=df.columns)\n",
    "    people = {\n",
    "        \"name\" : [name],\n",
    "        \"age\" : [age],\n",
    "        \"height\" : [height],\n",
    "        \"weight\" : [weight]\n",
    "    } \n",
    "    df = pd.concat([df, new_row], ignore_index=True)\n",
    "    return df"
   ]
  },
  {
   "cell_type": "code",
   "execution_count": null,
   "id": "70f18e49-1cd2-4a4c-a146-ef4e40e65bbb",
   "metadata": {},
   "outputs": [],
   "source": [
    "# 5 (ChatGPT attempt 2)\n",
    "def people_data(name, height, weight, age):\n",
    "    series1 = pd.Series(name)\n",
    "    series2 = pd.Series(height)\n",
    "    series3 = pd.Series(weight)\n",
    "    series4 = pd.Series(age)\n",
    "    \n",
    "    df = pd.concat([series1, series2, series3, series4], axis = 1)\n",
    "    df.set_index(\"name\", inplace = True)\n",
    "    \n",
    "    return df"
   ]
  },
  {
   "cell_type": "code",
   "execution_count": null,
   "id": "25eaf8f2-68c9-40cb-825f-43d6ae7e0000",
   "metadata": {
    "tags": []
   },
   "outputs": [],
   "source": [
    "people(\"Amy\", 21, 55, 162)"
   ]
  },
  {
   "cell_type": "code",
   "execution_count": null,
   "id": "ac64671a-deb7-4d38-a30f-523675555da8",
   "metadata": {},
   "outputs": [],
   "source": []
  },
  {
   "cell_type": "code",
   "execution_count": null,
   "id": "e62252e9-2f04-4ef8-8d94-0e6ca8353306",
   "metadata": {
    "tags": []
   },
   "outputs": [],
   "source": [
    "# 5 (attempt 3)\n",
    "#empty_df = pd.DataFrame()\n",
    "def people(empty_df, name, age, height, weight):\n",
    "    new_row = {\n",
    "        \"name\" : [name],\n",
    "        \"age\" : [age],\n",
    "        \"height\" : [height],\n",
    "        \"weight\" : [weight]\n",
    "    }\n",
    "    df = pd.concat([empty_df, pd.DataFrame(new_row)], axis = 0)\n",
    "    df.set_index(\"name\", inplace = True)\n",
    "    return df"
   ]
  },
  {
   "cell_type": "code",
   "execution_count": null,
   "id": "40e8e6b7-4c5d-4d0b-83c7-0cbaa0660ebb",
   "metadata": {
    "tags": []
   },
   "outputs": [],
   "source": [
    "empty_df = pd.DataFrame()\n",
    "empty_df = people(empty_df, \"Amy\", 21, 55, 162)\n",
    "empty_df = people(empty_df, \"Alice\", 30, 165, 60)\n",
    "empty_df = people(empty_df, \"Bob\", 35, 175, 80)\n",
    "print(empty_df)"
   ]
  },
  {
   "cell_type": "code",
   "execution_count": null,
   "id": "3a0d1693-7c22-4e9c-b2aa-2a4f6311b2cd",
   "metadata": {
    "tags": []
   },
   "outputs": [],
   "source": [
    "def people(empty_df, name, age, height, weight):\n",
    "    new_row = {\n",
    "        \"name\": [name],\n",
    "        \"age\": [age],\n",
    "        \"height\": [height],\n",
    "        \"weight\": [weight]\n",
    "    }\n",
    "\n",
    "    df = pd.concat([empty_df, pd.DataFrame(new_row)], axis = 0)\n",
    "    df.set_index(\"name\", inplace=True)\n",
    "\n",
    "    return df"
   ]
  },
  {
   "cell_type": "code",
   "execution_count": null,
   "id": "bdda9e2a-e585-48b7-8120-d5ff4a7aff8e",
   "metadata": {
    "tags": []
   },
   "outputs": [],
   "source": [
    "# Example usage\n",
    "empty_df = pd.DataFrame()\n",
    "empty_df = people(empty_df, \"John\", 25, 180, 75)\n",
    "empty_df = people(empty_df, \"Alice\", 30, 165, 60)\n",
    "empty_df = people(empty_df, \"Bob\", 35, 175, 80)\n",
    "\n",
    "print(empty_df)"
   ]
  },
  {
   "cell_type": "code",
   "execution_count": null,
   "id": "47693be4-949b-4ed3-9099-0bdb185442d6",
   "metadata": {
    "tags": []
   },
   "outputs": [],
   "source": [
    "empty_df = pd.DataFrame()"
   ]
  },
  {
   "cell_type": "code",
   "execution_count": null,
   "id": "b26056f3-8d06-45d2-aa1a-f8095b05ab9f",
   "metadata": {
    "tags": []
   },
   "outputs": [],
   "source": [
    "def people(empty_df, name, age, height, weight):\n",
    "    people = {\n",
    "        \"name\" : [name],\n",
    "        \"age\" : [age],\n",
    "        \"height\" : [height],\n",
    "        \"weight\" : [weight]\n",
    "    }\n",
    "    df = pd.concat([empty_df, pd.DataFrame(people)], ignore_index = True, axis = 0)\n",
    "    df = df.set_index([\"name\"])\n",
    "    return df"
   ]
  },
  {
   "cell_type": "code",
   "execution_count": null,
   "id": "323c609b-d7f5-4f3c-8a43-b60bd0837821",
   "metadata": {
    "tags": []
   },
   "outputs": [],
   "source": [
    "John = people(empty_df, \"John\", 25, 180, 75)\n",
    "print(John)"
   ]
  },
  {
   "cell_type": "code",
   "execution_count": null,
   "id": "4bbd6e5b-748f-4e5e-91f8-1cd416790e90",
   "metadata": {
    "tags": []
   },
   "outputs": [],
   "source": [
    "Alice = people(John, \"Alice\", 30, 165, 60)\n",
    "print(Alice)"
   ]
  },
  {
   "cell_type": "code",
   "execution_count": null,
   "id": "a1e29013-0cb6-41a0-a2bc-55c39a947430",
   "metadata": {},
   "outputs": [],
   "source": [
    "Bob = people(Alice, \"Bob\", 30, 165, 60)\n",
    "Bob.set_index(\"name\", inplace = True)"
   ]
  },
  {
   "cell_type": "code",
   "execution_count": null,
   "id": "99f34bee-53b8-4b82-9573-279a319ff950",
   "metadata": {
    "tags": []
   },
   "outputs": [],
   "source": [
    "print(Bob)"
   ]
  }
 ],
 "metadata": {
  "kernelspec": {
   "display_name": "Python 3 (ipykernel)",
   "language": "python",
   "name": "python3"
  },
  "language_info": {
   "codemirror_mode": {
    "name": "ipython",
    "version": 3
   },
   "file_extension": ".py",
   "mimetype": "text/x-python",
   "name": "python",
   "nbconvert_exporter": "python",
   "pygments_lexer": "ipython3",
   "version": "3.11.3"
  }
 },
 "nbformat": 4,
 "nbformat_minor": 5
}
