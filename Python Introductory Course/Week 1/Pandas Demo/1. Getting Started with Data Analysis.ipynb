{
 "cells": [
  {
   "cell_type": "code",
   "execution_count": 12,
   "id": "451376ab-a243-4e77-8b80-0417641107a6",
   "metadata": {
    "tags": []
   },
   "outputs": [],
   "source": [
    "import pandas as pd"
   ]
  },
  {
   "cell_type": "code",
   "execution_count": 13,
   "id": "2b69c44b-e7fc-4658-a0b1-d14d52076c31",
   "metadata": {
    "tags": []
   },
   "outputs": [],
   "source": [
    "# accessing the csv results file\n",
    "df = pd.read_csv(\"data/survey_results_public.csv\")"
   ]
  },
  {
   "cell_type": "code",
   "execution_count": null,
   "id": "d353a31e-3103-4c23-9a82-04f6b3becc1e",
   "metadata": {
    "tags": []
   },
   "outputs": [],
   "source": [
    "# displaying the data frame\n",
    "df"
   ]
  },
  {
   "cell_type": "code",
   "execution_count": 20,
   "id": "261bf30f-42b2-4985-a1e6-7c890771648a",
   "metadata": {
    "tags": []
   },
   "outputs": [
    {
     "data": {
      "text/plain": [
       "(88883, 85)"
      ]
     },
     "execution_count": 20,
     "metadata": {},
     "output_type": "execute_result"
    }
   ],
   "source": [
    "# gives number of columns and rows\n",
    "df.shape"
   ]
  },
  {
   "cell_type": "code",
   "execution_count": null,
   "id": "4328fef8-61a8-4b09-901d-eaef4b37d053",
   "metadata": {},
   "outputs": [],
   "source": [
    "# gives number of rows and columns, also all the data types of the columns\n",
    "df.info()"
   ]
  },
  {
   "cell_type": "code",
   "execution_count": 21,
   "id": "d29dc50d-8618-4861-8a60-d7980549e768",
   "metadata": {
    "tags": []
   },
   "outputs": [],
   "source": [
    "# changing a setting within jupyter so we can see all the columns and rows\n",
    "pd.set_option(\"display.max_columns\", 85)\n",
    "pd.set_option(\"display.max_rows\", 85)"
   ]
  },
  {
   "cell_type": "code",
   "execution_count": 22,
   "id": "86fed4cb-6d04-447a-ac68-90a6f6a81944",
   "metadata": {
    "tags": []
   },
   "outputs": [],
   "source": [
    "# accessing the csv schema file\n",
    "schema_df = pd.read_csv(\"data/survey_results_schema.csv\")"
   ]
  },
  {
   "cell_type": "code",
   "execution_count": null,
   "id": "c717f4c6-d613-45ec-bcbe-e58a33ceb82b",
   "metadata": {
    "tags": []
   },
   "outputs": [],
   "source": [
    "# can use as a reference when you don't know what a result means in the survey data\n",
    "schema_df"
   ]
  },
  {
   "cell_type": "code",
   "execution_count": null,
   "id": "712aede7-c049-4dc2-9e12-ac01241b31d6",
   "metadata": {},
   "outputs": [],
   "source": [
    "# viewing a certain number of rows\n",
    "df.head() #displays first five rows by default but can pass in a value if you want to see a different number of rows\n",
    "df.tail() #displays the last five rows by default"
   ]
  }
 ],
 "metadata": {
  "kernelspec": {
   "display_name": "Python 3 (ipykernel)",
   "language": "python",
   "name": "python3"
  },
  "language_info": {
   "codemirror_mode": {
    "name": "ipython",
    "version": 3
   },
   "file_extension": ".py",
   "mimetype": "text/x-python",
   "name": "python",
   "nbconvert_exporter": "python",
   "pygments_lexer": "ipython3",
   "version": "3.11.3"
  }
 },
 "nbformat": 4,
 "nbformat_minor": 5
}
